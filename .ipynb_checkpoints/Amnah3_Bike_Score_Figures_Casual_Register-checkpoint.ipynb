{
 "metadata": {
  "name": "",
  "signature": "sha256:6ef4a5d94126ae1ea6702c14902fa925467c388bb03de4e9f2d49df763c6079d"
 },
 "nbformat": 3,
 "nbformat_minor": 0,
 "worksheets": [
  {
   "cells": [
    {
     "cell_type": "markdown",
     "metadata": {},
     "source": [
      "#Load Train and Test Sets "
     ]
    },
    {
     "cell_type": "code",
     "collapsed": false,
     "input": [
      "import numpy as np\n",
      "import pandas as pd\n",
      "import matplotlib.pyplot as plt\n",
      "%matplotlib inline\n",
      "import matplotlib\n",
      "\n",
      "\n",
      "df_train = pd.read_csv('train.csv',parse_dates=[\"datetime\"],header = 0)\n",
      "df_test = pd.read_csv('test.csv',parse_dates=[\"datetime\"],header = 0)\n",
      "\n",
      "#set(\"/home/aamnah/Google Drive/Project_BikeSharing/research-project-templete-amnah/Template/images\")\n",
      "\n",
      "df_train.head(1)\n",
      "df_train.dtypes\n",
      "df_train.shape\n",
      "df_train.count()\n",
      "type(df_train.datetime)\n"
     ],
     "language": "python",
     "metadata": {},
     "outputs": [
      {
       "metadata": {},
       "output_type": "pyout",
       "prompt_number": 16,
       "text": [
        "pandas.core.series.Series"
       ]
      }
     ],
     "prompt_number": 16
    },
    {
     "cell_type": "code",
     "collapsed": false,
     "input": [
      "#To convert a Series or list-like object of date-like objects e.g. strings I can use the to_datetime function. Here I can use pd.DatetimeIndex to extract month, day and hour out of datetime column. For the day column I would like to show it as day of week, where Monday = 0 and Sunday = 6\n",
      "df_train['month'] = pd.DatetimeIndex(df_train.datetime).month\n",
      "df_train['day'] = pd.DatetimeIndex(df_train.datetime).dayofweek\n",
      "df_train['hour'] = pd.DatetimeIndex(df_train.datetime).hour\n",
      "df_train['year'] = pd.DatetimeIndex(df_train.datetime).year"
     ],
     "language": "python",
     "metadata": {},
     "outputs": [],
     "prompt_number": 17
    },
    {
     "cell_type": "markdown",
     "metadata": {},
     "source": [
      "#Feature engineering data and target to train model"
     ]
    },
    {
     "cell_type": "code",
     "collapsed": false,
     "input": [
      "df_train.head(1)\n",
      "df_train = df_train.drop(['datetime','counts'], axis = 1)\n",
      "df_train.head(1)\n",
      "df_train.shape\n",
      " \n",
      "#casual\n",
      "#the evaluation metric is the RMSE in the log domain,\n",
      "#so we should transform the target columns into log domain as well.\n",
      "#for col in ['casual', 'registered']:\n",
      "#     df_train['log10-' + col] = df_train[col].apply(lambda x: np.log1p(x))\n",
      "\n",
      "df_train_target = df_train['casual'].values\n",
      "df_train_data = df_train.drop(['casual','registered'],axis = 1).values\n",
      "print 'df_train_data shape is ', df_train_data.shape\n",
      "print 'df_train_target shape is ', df_train_target.shape\n",
      "#registered\n",
      "df_train_target1 = df_train['registered'].values\n",
      "df_train_data1 = df_train.drop(['registered','casual'],axis = 1).values\n",
      "print 'df_train_data shape is ', df_train_data1.shape\n",
      "print 'df_train_target shape is ', df_train_target1.shape"
     ],
     "language": "python",
     "metadata": {},
     "outputs": [
      {
       "output_type": "stream",
       "stream": "stdout",
       "text": [
        "df_train_data shape is  (10886, 12)\n",
        "df_train_target shape is  (10886,)\n",
        "df_train_data shape is  (10886, 12)\n",
        "df_train_target shape is  (10886,)\n"
       ]
      }
     ],
     "prompt_number": 18
    },
    {
     "cell_type": "code",
     "collapsed": false,
     "input": [
      "df_train.head(1)"
     ],
     "language": "python",
     "metadata": {},
     "outputs": [
      {
       "html": [
        "<div style=\"max-height:1000px;max-width:1500px;overflow:auto;\">\n",
        "<table border=\"1\" class=\"dataframe\">\n",
        "  <thead>\n",
        "    <tr style=\"text-align: right;\">\n",
        "      <th></th>\n",
        "      <th>season</th>\n",
        "      <th>holiday</th>\n",
        "      <th>workingday</th>\n",
        "      <th>weather</th>\n",
        "      <th>temp</th>\n",
        "      <th>atemp</th>\n",
        "      <th>humidity</th>\n",
        "      <th>windspeed</th>\n",
        "      <th>casual</th>\n",
        "      <th>registered</th>\n",
        "      <th>month</th>\n",
        "      <th>day</th>\n",
        "      <th>hour</th>\n",
        "      <th>year</th>\n",
        "    </tr>\n",
        "  </thead>\n",
        "  <tbody>\n",
        "    <tr>\n",
        "      <th>0</th>\n",
        "      <td> 1</td>\n",
        "      <td> 0</td>\n",
        "      <td> 0</td>\n",
        "      <td> 1</td>\n",
        "      <td> 9.84</td>\n",
        "      <td> 14.395</td>\n",
        "      <td> 81</td>\n",
        "      <td> 0</td>\n",
        "      <td> 3</td>\n",
        "      <td> 13</td>\n",
        "      <td> 1</td>\n",
        "      <td> 5</td>\n",
        "      <td> 0</td>\n",
        "      <td> 2011</td>\n",
        "    </tr>\n",
        "  </tbody>\n",
        "</table>\n",
        "<p>1 rows \u00d7 14 columns</p>\n",
        "</div>"
       ],
       "metadata": {},
       "output_type": "pyout",
       "prompt_number": 19,
       "text": [
        "   season  holiday  workingday  weather  temp   atemp  humidity  windspeed  \\\n",
        "0       1        0           0        1  9.84  14.395        81          0   \n",
        "\n",
        "   casual  registered  month  day  hour  year  \n",
        "0       3          13      1    5     0  2011  \n",
        "\n",
        "[1 rows x 14 columns]"
       ]
      }
     ],
     "prompt_number": 19
    },
    {
     "cell_type": "code",
     "collapsed": false,
     "input": [
      "df_test.head(1)"
     ],
     "language": "python",
     "metadata": {},
     "outputs": [
      {
       "html": [
        "<div style=\"max-height:1000px;max-width:1500px;overflow:auto;\">\n",
        "<table border=\"1\" class=\"dataframe\">\n",
        "  <thead>\n",
        "    <tr style=\"text-align: right;\">\n",
        "      <th></th>\n",
        "      <th>datetime</th>\n",
        "      <th>season</th>\n",
        "      <th>holiday</th>\n",
        "      <th>workingday</th>\n",
        "      <th>weather</th>\n",
        "      <th>temp</th>\n",
        "      <th>atemp</th>\n",
        "      <th>humidity</th>\n",
        "      <th>windspeed</th>\n",
        "    </tr>\n",
        "  </thead>\n",
        "  <tbody>\n",
        "    <tr>\n",
        "      <th>0</th>\n",
        "      <td>2011-01-20</td>\n",
        "      <td> 1</td>\n",
        "      <td> 0</td>\n",
        "      <td> 1</td>\n",
        "      <td> 1</td>\n",
        "      <td> 10.66</td>\n",
        "      <td> 11.365</td>\n",
        "      <td> 56</td>\n",
        "      <td> 26.0027</td>\n",
        "    </tr>\n",
        "  </tbody>\n",
        "</table>\n",
        "<p>1 rows \u00d7 9 columns</p>\n",
        "</div>"
       ],
       "metadata": {},
       "output_type": "pyout",
       "prompt_number": 20,
       "text": [
        "    datetime  season  holiday  workingday  weather   temp   atemp  humidity  \\\n",
        "0 2011-01-20       1        0           1        1  10.66  11.365        56   \n",
        "\n",
        "   windspeed  \n",
        "0    26.0027  \n",
        "\n",
        "[1 rows x 9 columns]"
       ]
      }
     ],
     "prompt_number": 20
    },
    {
     "cell_type": "code",
     "collapsed": false,
     "input": [],
     "language": "python",
     "metadata": {},
     "outputs": [],
     "prompt_number": 20
    },
    {
     "cell_type": "markdown",
     "metadata": {},
     "source": [
      "#$$ Start \\; select \\; model $$\\\\ \\\\ \\\\ "
     ]
    },
    {
     "cell_type": "code",
     "collapsed": false,
     "input": [
      "#Machine Learning Algorithm\n",
      "#In this section I will apply some Machine Learning algorithms to our data. \n",
      "#I will also show how to use Grid Search and Cross Validation to improve and find best parameters to the algorithms. \n",
      "from sklearn import linear_model, datasets\n",
      "from sklearn import cross_validation\n",
      "from sklearn import svm\n",
      "from sklearn.ensemble import RandomForestRegressor,GradientBoostingRegressor,BaggingRegressor,RandomForestClassifier \n",
      "from sklearn.learning_curve import learning_curve\n",
      "from sklearn.grid_search import GridSearchCV\n",
      "from sklearn.metrics import explained_variance_score\n",
      "from sklearn.tree import DecisionTreeRegressor\n",
      "from sklearn.ensemble import AdaBoostRegressor\n"
     ],
     "language": "python",
     "metadata": {},
     "outputs": [],
     "prompt_number": 21
    },
    {
     "cell_type": "markdown",
     "metadata": {},
     "source": [
      "#LinearRegression()"
     ]
    },
    {
     "cell_type": "code",
     "collapsed": false,
     "input": [
      "#Here I will use cross-validation, in particular Shuffle Split - random permutation cross-validation that will \n",
      "#give us train and test sets. The test set will be 20% of the original set. Run each model three times to see which one gives me the best result. \n",
      "\n",
      "cv = cross_validation.ShuffleSplit(len(df_train_data), n_iter=3, test_size=0.2,random_state=0)\n",
      "#cv = cross_validation.KFold( len(df_train_data), n_folds=10, shuffle=False, random_state=None)   #very bad result\n",
      "\n",
      "\n",
      "print \"LinearRegression\"    \n",
      "for train, test in cv:    \n",
      "   svc = linear_model.LinearRegression().fit(df_train_data[train], df_train_target[train])\n",
      "   svc1 = linear_model.LinearRegression().fit(df_train_data1[train], df_train_target1[train])\n",
      "   print(\"train score: {0:.3f}, test score: {1:.3f}\\n\".format(\n",
      "       svc.score(df_train_data[train], df_train_target[train]), svc.score(df_train_data[test], df_train_target[test])))\n",
      "   print(\"train score SECOND: {0:.3f}, test score: {1:.3f}\\n\".format(\n",
      "       svc1.score(df_train_data1[train], df_train_target1[train]), svc.score(df_train_data1[test], df_train_target1[test])))"
     ],
     "language": "python",
     "metadata": {},
     "outputs": [
      {
       "output_type": "stream",
       "stream": "stdout",
       "text": [
        "LinearRegression\n",
        "train score: 0.439, test score: 0.438\n",
        "\n",
        "train score SECOND: 0.196, test score: -0.548\n",
        "\n",
        "train score: 0.435, test score: 0.454\n",
        "\n",
        "train score SECOND: 0.191, test score: -0.544\n",
        "\n",
        "train score: 0.437, test score: 0.447\n"
       ]
      },
      {
       "output_type": "stream",
       "stream": "stdout",
       "text": [
        "\n",
        "train score SECOND: 0.199, test score: -0.554\n",
        "\n"
       ]
      }
     ],
     "prompt_number": 10
    },
    {
     "cell_type": "markdown",
     "metadata": {},
     "source": [
      "#Ridge()"
     ]
    },
    {
     "cell_type": "code",
     "collapsed": false,
     "input": [
      "#cv = cross_validation.KFold( len(df_train_data), n_folds=10, shuffle=False, random_state=None) \n",
      "cv = cross_validation.ShuffleSplit(len(df_train_data), n_iter=3, test_size=0.2,random_state=0)\n",
      "\n",
      "\n",
      "print \"Ridge\"    \n",
      "for train, test in cv:    \n",
      "    svc = linear_model.Ridge().fit(df_train_data[train], df_train_target[train])\n",
      "    svc1 = linear_model.Ridge().fit(df_train_data1[train], df_train_target1[train])\n",
      "    print(\"train score: {0:.3f}, test score: {1:.3f}\\n\".format(\n",
      "        svc.score(df_train_data[train], df_train_target[train]), svc.score(df_train_data[test], df_train_target[test])))\n",
      "    print(\"train score SECOND: {0:.3f}, test score: {1:.3f}\\n\".format(\n",
      "        svc1.score(df_train_data1[train], df_train_target1[train]), svc.score(df_train_data1[test], df_train_target1[test])))\n",
      "    \n"
     ],
     "language": "python",
     "metadata": {},
     "outputs": [
      {
       "output_type": "stream",
       "stream": "stdout",
       "text": [
        "Ridge\n",
        "train score: 0.439, test score: 0.438\n"
       ]
      },
      {
       "output_type": "stream",
       "stream": "stdout",
       "text": [
        "\n",
        "train score SECOND: 0.196, test score: -0.548\n",
        "\n",
        "train score: 0.435, test score: 0.454\n",
        "\n",
        "train score SECOND: 0.191, test score: -0.544\n",
        "\n",
        "train score: 0.437, test score: 0.447\n"
       ]
      },
      {
       "output_type": "stream",
       "stream": "stdout",
       "text": [
        "\n",
        "train score SECOND: 0.199, test score: -0.554\n",
        "\n"
       ]
      }
     ],
     "prompt_number": 11
    },
    {
     "cell_type": "markdown",
     "metadata": {},
     "source": [
      "#DecisionTreeRegressor(max_depth=3) + try to plot tree  ????? Problem"
     ]
    },
    {
     "cell_type": "code",
     "collapsed": false,
     "input": [
      "#cv = cross_validation.KFold( len(df_train_data), n_folds=10, shuffle=False, random_state=None) \n",
      "cv = cross_validation.ShuffleSplit(len(df_train_data), n_iter=3, test_size=0.2,random_state=0)\n",
      "\n",
      "\n",
      "print \"DecisionTreeRegressor(max_depth=4)\"    \n",
      "for train, test in cv:    \n",
      "    svc = DecisionTreeRegressor(max_depth=3).fit(df_train_data[train], df_train_target[train])\n",
      "    svc1 = DecisionTreeRegressor(max_depth=3).fit(df_train_data1[train], df_train_target1[train])\n",
      "    print(\"train score: {0:.3f}, test score: {1:.3f}\\n\".format(\n",
      "        svc.score(df_train_data[train], df_train_target[train]), svc.score(df_train_data[test], df_train_target[test])))\n",
      "    print(\"train score SECOND: {0:.3f}, test score: {1:.3f}\\n\".format(\n",
      "        svc1.score(df_train_data1[train], df_train_target1[train]), svc.score(df_train_data1[test], df_train_target1[test])))\n",
      "    \n",
      "count "
     ],
     "language": "python",
     "metadata": {},
     "outputs": [
      {
       "output_type": "stream",
       "stream": "stdout",
       "text": [
        "DecisionTreeRegressor(max_depth=4)\n",
        "train score: 0.489, test score: 0.499\n",
        "\n",
        "train score: 0.504, test score: 0.503\n"
       ]
      },
      {
       "output_type": "stream",
       "stream": "stdout",
       "text": [
        "\n",
        "train score: 0.502, test score: 0.509\n",
        "\n"
       ]
      },
      {
       "metadata": {},
       "output_type": "pyout",
       "prompt_number": 23,
       "text": [
        "array([  44.51045105,   44.51045105,   15.2771831 , ...,  161.78508772,\n",
        "        161.78508772,  161.78508772])"
       ]
      }
     ],
     "prompt_number": 23
    },
    {
     "cell_type": "markdown",
     "metadata": {},
     "source": [
      "#AdaBoostRegressor(DecisionTreeRegressor(max_depth=4)"
     ]
    },
    {
     "cell_type": "code",
     "collapsed": false,
     "input": [
      "#cv = cross_validation.KFold( len(df_train_data), n_folds=10, shuffle=False, random_state=None) \n",
      "cv = cross_validation.ShuffleSplit(len(df_train_data), n_iter=3, test_size=0.2,random_state=0)\n",
      "\n",
      "\n",
      "print \"AdaBoostRegressor(n_estimators = 100)\"    \n",
      "for train, test in cv:    \n",
      "    svc = AdaBoostRegressor(DecisionTreeRegressor(max_depth=4), n_estimators=100).fit(df_train_data[train], df_train_target[train])\n",
      "    svc1 = AdaBoostRegressor(DecisionTreeRegressor(max_depth=4), n_estimators=100).fit(df_train_data1[train], df_train_target1[train])\n",
      "    print(\"train score: {0:.3f}, test score: {1:.3f}\\n\".format(\n",
      "        svc.score(df_train_data[train], df_train_target[train]), svc.score(df_train_data[test], df_train_target[test])))\n",
      "    print(\"train score SECOND: {0:.3f}, test score: {1:.3f}\\n\".format(\n",
      "        svc1.score(df_train_data1[train], df_train_target1[train]), svc.score(df_train_data1[test], df_train_target1[test])))"
     ],
     "language": "python",
     "metadata": {},
     "outputs": [
      {
       "output_type": "stream",
       "stream": "stdout",
       "text": [
        "AdaBoostRegressor(n_estimators = 100)\n",
        "train score: 0.522, test score: 0.518\n"
       ]
      },
      {
       "output_type": "stream",
       "stream": "stdout",
       "text": [
        "\n",
        "train score SECOND: 0.098, test score: -0.505\n",
        "\n",
        "train score: 0.514, test score: 0.483\n"
       ]
      },
      {
       "output_type": "stream",
       "stream": "stdout",
       "text": [
        "\n",
        "train score SECOND: 0.159, test score: -0.478\n",
        "\n",
        "train score: 0.515, test score: 0.458\n"
       ]
      },
      {
       "output_type": "stream",
       "stream": "stdout",
       "text": [
        "\n",
        "train score SECOND: 0.162, test score: -0.480\n",
        "\n"
       ]
      }
     ],
     "prompt_number": 13
    },
    {
     "cell_type": "markdown",
     "metadata": {},
     "source": [
      "#GradientBoostingRegressor(n_estimators = 100)"
     ]
    },
    {
     "cell_type": "code",
     "collapsed": false,
     "input": [
      "#cv = cross_validation.KFold( len(df_train_data), n_folds=10, shuffle=False, random_state=None) \n",
      "cv = cross_validation.ShuffleSplit(len(df_train_data), n_iter=3, test_size=0.2,random_state=0)\n",
      "\n",
      "\n",
      "print \"GradientBoostingRegressor(n_estimators = 100)\"    \n",
      "for train, test in cv:    \n",
      "    svc = GradientBoostingRegressor(n_estimators = 100).fit(df_train_data[train], df_train_target[train])\n",
      "    svc1 = GradientBoostingRegressor(n_estimators = 100).fit(df_train_data1[train], df_train_target1[train])\n",
      "    print(\"train score: {0:.3f}, test score: {1:.3f}\\n\".format(\n",
      "        svc.score(df_train_data[train], df_train_target[train]), svc.score(df_train_data[test], df_train_target[test])))\n",
      "    print(\"train score SECOND: {0:.3f}, test score: {1:.3f}\\n\".format(\n",
      "        svc1.score(df_train_data1[train], df_train_target1[train]), svc.score(df_train_data1[test], df_train_target1[test])))\n",
      "    \n"
     ],
     "language": "python",
     "metadata": {},
     "outputs": [
      {
       "output_type": "stream",
       "stream": "stdout",
       "text": [
        "GradientBoostingRegressor(n_estimators = 100)\n",
        "train score: 0.641, test score: 0.621\n"
       ]
      },
      {
       "output_type": "stream",
       "stream": "stdout",
       "text": [
        "\n",
        "train score SECOND: 0.278, test score: -0.544\n",
        "\n",
        "train score: 0.642, test score: 0.637\n"
       ]
      },
      {
       "output_type": "stream",
       "stream": "stdout",
       "text": [
        "\n",
        "train score SECOND: 0.267, test score: -0.525\n",
        "\n",
        "train score: 0.650, test score: 0.600\n"
       ]
      },
      {
       "output_type": "stream",
       "stream": "stdout",
       "text": [
        "\n",
        "train score SECOND: 0.273, test score: -0.537\n",
        "\n"
       ]
      }
     ],
     "prompt_number": 14
    },
    {
     "cell_type": "markdown",
     "metadata": {},
     "source": [
      "#BaggingRegressor(n_estimators = 100)"
     ]
    },
    {
     "cell_type": "code",
     "collapsed": false,
     "input": [
      "#cv = cross_validation.KFold( len(df_train_data), n_folds=10, shuffle=False, random_state=None) \n",
      "cv = cross_validation.ShuffleSplit(len(df_train_data), n_iter=3, test_size=0.2,random_state=0)\n",
      "\n",
      "print \"BaggingRegressor(n_estimators = 100)\"    \n",
      "for train, test in cv:    \n",
      "    svc = BaggingRegressor(n_estimators = 100).fit(df_train_data[train], df_train_target[train])\n",
      "    svc1 = RandomForestRegressor(n_estimators = 100).fit(df_train_data1[train], df_train_target1[train])\n",
      "    print(\"train score: {0:.3f}, test score: {1:.3f}\\n\".format(\n",
      "        svc.score(df_train_data[train], df_train_target[train]), svc.score(df_train_data[test], df_train_target[test])))\n",
      "    print(\"train score SECOND: {0:.3f}, test score: {1:.3f}\\n\".format(\n",
      "        svc1.score(df_train_data1[train], df_train_target1[train]), svc.score(df_train_data1[test], df_train_target1[test])))\n",
      "\n",
      "\n",
      "\n"
     ],
     "language": "python",
     "metadata": {},
     "outputs": [
      {
       "output_type": "stream",
       "stream": "stdout",
       "text": [
        "BaggingRegressor(n_estimators = 100)\n",
        "train score: 0.933, test score: 0.657\n"
       ]
      },
      {
       "output_type": "stream",
       "stream": "stdout",
       "text": [
        "\n",
        "train score SECOND: 0.814, test score: -0.517\n"
       ]
      },
      {
       "output_type": "stream",
       "stream": "stdout",
       "text": [
        "\n",
        "train score: 0.935, test score: 0.674\n"
       ]
      },
      {
       "output_type": "stream",
       "stream": "stdout",
       "text": [
        "\n",
        "train score SECOND: 0.806, test score: -0.507\n"
       ]
      },
      {
       "output_type": "stream",
       "stream": "stdout",
       "text": [
        "\n",
        "train score: 0.937, test score: 0.634\n"
       ]
      },
      {
       "output_type": "stream",
       "stream": "stdout",
       "text": [
        "\n",
        "train score SECOND: 0.818, test score: -0.514\n"
       ]
      },
      {
       "output_type": "stream",
       "stream": "stdout",
       "text": [
        "\n"
       ]
      }
     ],
     "prompt_number": 15
    },
    {
     "cell_type": "markdown",
     "metadata": {},
     "source": [
      "#RandomForestRegressor(n_estimators = 100)"
     ]
    },
    {
     "cell_type": "code",
     "collapsed": false,
     "input": [
      "#cv = cross_validation.KFold( len(df_train_data), n_folds=10, shuffle=False, random_state=None) \n",
      "cv = cross_validation.ShuffleSplit(len(df_train_data), n_iter=3, test_size=0.2,random_state=0)\n",
      "\n",
      "\n",
      "print \"Random Forest(n_estimators = 100)\"    \n",
      "for train, test in cv:    \n",
      "    svcC = RandomForestRegressor(n_estimators = 100).fit(df_train_data[train], df_train_target[train])\n",
      "    svcA = RandomForestRegressor(n_estimators = 100).fit(df_train_data1[train], df_train_target1[train])\n",
      "    print(\"train score: {0:.3f}, test score: {1:.3f}\\n\".format(\n",
      "        svcC.score(df_train_data[train], df_train_target[train]), svcC.score(df_train_data[test], df_train_target[test])))\n",
      "    print(\"train score SECOND: {0:.3f}, test score: {1:.3f}\\n\".format(\n",
      "        svcA.score(df_train_data1[train], df_train_target1[train]), svcA.score(df_train_data1[test], df_train_target1[test])))"
     ],
     "language": "python",
     "metadata": {},
     "outputs": [
      {
       "output_type": "stream",
       "stream": "stdout",
       "text": [
        "Random Forest(n_estimators = 100)\n",
        "train score: 0.933, test score: 0.655\n"
       ]
      },
      {
       "output_type": "stream",
       "stream": "stdout",
       "text": [
        "\n",
        "train score SECOND: 0.815, test score: 0.152\n"
       ]
      },
      {
       "output_type": "stream",
       "stream": "stdout",
       "text": [
        "\n",
        "train score: 0.935, test score: 0.672\n"
       ]
      },
      {
       "output_type": "stream",
       "stream": "stdout",
       "text": [
        "\n",
        "train score SECOND: 0.807, test score: 0.171\n"
       ]
      },
      {
       "output_type": "stream",
       "stream": "stdout",
       "text": [
        "\n",
        "train score: 0.937, test score: 0.632\n"
       ]
      },
      {
       "output_type": "stream",
       "stream": "stdout",
       "text": [
        "\n",
        "train score SECOND: 0.817, test score: 0.127\n"
       ]
      },
      {
       "output_type": "stream",
       "stream": "stdout",
       "text": [
        "\n"
       ]
      }
     ],
     "prompt_number": 16
    },
    {
     "cell_type": "markdown",
     "metadata": {},
     "source": [
      "#Model Prediction for submistion \n",
      "#RandomForestRegressor(n_estimators = 500)    only counts"
     ]
    },
    {
     "cell_type": "code",
     "collapsed": false,
     "input": [
      "import numpy as np\n",
      "import pandas as pd\n",
      "import matplotlib.pyplot as plt\n",
      "%matplotlib inline\n",
      "import matplotlib\n",
      "\n",
      "#First let's open Bicycle train.csv and take a look at it. \n",
      "df_train = pd.read_csv('train.csv',parse_dates=[\"datetime\"],header = 0)\n",
      "df_test = pd.read_csv('test.csv',parse_dates=[\"datetime\"],header = 0)\n",
      "\n",
      "#To convert a Series or list-like object of date-like objects e.g. strings I can use the to_datetime function. Here I can use pd.DatetimeIndex to extract month, day and hour out of datetime column. For the day column I would like to show it as day of week, where Monday = 0 and Sunday = 6\n",
      "df_train['month'] = pd.DatetimeIndex(df_train.datetime).month\n",
      "df_train['day'] = pd.DatetimeIndex(df_train.datetime).dayofweek\n",
      "#df_train['days'] = pd.DatetimeIndex(df_train.datetime).date\n",
      "df_train['hour'] = pd.DatetimeIndex(df_train.datetime).hour\n",
      "df_train['year'] = pd.DatetimeIndex(df_train.datetime).year\n",
      "#df_train['weekday'] = pd.DatetimeIndex(df_train.datetime).week\n",
      "#df_train['Saturday']=0\n",
      "#df_train['Sunday']=0\n",
      "#df_train.Saturday[df_train.day==5]=1\n",
      "#df_train.Sunday[df_train.day==6]=1\n",
      "#g = df_train.groupby(pd.DatetimeIndex(df_train['day']).normalize())\n",
      "#g = df_train.groupby(df_train['day'].normalize())\n"
     ],
     "language": "python",
     "metadata": {},
     "outputs": [],
     "prompt_number": 17
    },
    {
     "cell_type": "code",
     "collapsed": false,
     "input": [
      "df_train = df_train.drop(['datetime','casual','registered'], axis = 1)"
     ],
     "language": "python",
     "metadata": {},
     "outputs": [],
     "prompt_number": 5
    },
    {
     "cell_type": "code",
     "collapsed": false,
     "input": [
      "df_train_target11 = df_train['counts'].values\n",
      "df_train_data11 = df_train.drop(['counts'],axis = 1).values"
     ],
     "language": "python",
     "metadata": {},
     "outputs": [],
     "prompt_number": 6
    },
    {
     "cell_type": "code",
     "collapsed": false,
     "input": [
      "df_train = df_train.drop(['counts'], axis = 1)"
     ],
     "language": "python",
     "metadata": {},
     "outputs": [],
     "prompt_number": 7
    },
    {
     "cell_type": "code",
     "collapsed": false,
     "input": [
      "cv = cross_validation.ShuffleSplit(len(df_train_data11), n_iter=3, test_size=0.2,random_state=0) \n",
      "\n",
      "print \"Random Forest(n_estimators = 100)\"    \n",
      "for train, test in cv:    \n",
      "    sv = RandomForestRegressor(n_estimators = 500).fit(df_train_data11[train], df_train_target11[train])\n",
      "    print(\"train score: {0:.3f}, test score: {1:.3f}\\n\".format(\n",
      "        sv.score(df_train_data11[train], df_train_target11[train]), sv.score(df_train_data11[test], df_train_target11[test])))"
     ],
     "language": "python",
     "metadata": {},
     "outputs": [
      {
       "output_type": "stream",
       "stream": "stdout",
       "text": [
        "Random Forest(n_estimators = 100)\n",
        "train score: 0.993, test score: 0.947\n"
       ]
      },
      {
       "output_type": "stream",
       "stream": "stdout",
       "text": [
        "\n",
        "train score: 0.993, test score: 0.953\n"
       ]
      },
      {
       "output_type": "stream",
       "stream": "stdout",
       "text": [
        "\n",
        "train score: 0.993, test score: 0.948\n"
       ]
      },
      {
       "output_type": "stream",
       "stream": "stdout",
       "text": [
        "\n"
       ]
      }
     ],
     "prompt_number": 16
    },
    {
     "cell_type": "markdown",
     "metadata": {},
     "source": [
      "#TEST AND ANALYSIS MOOOORE + Feature importance  count"
     ]
    },
    {
     "cell_type": "code",
     "collapsed": false,
     "input": [
      "import numpy as np\n",
      "import matplotlib.pyplot as plt\n",
      "\n",
      "from sklearn.datasets import make_classification\n",
      "from sklearn.ensemble import ExtraTreesClassifier\n",
      "\n",
      "features_list = df_train.columns.values\n",
      "#sv = RandomForestRegressor(n_estimators = 500).fit(df_train_data11, df_train_target11)\n",
      "\n",
      "#start with casual\n",
      "importances = sv.feature_importances_\n",
      "\n",
      "important_idx = np.where(importances)[0] \n",
      "\n",
      "\n",
      "important_features = features_list[important_idx]\n",
      "\n",
      "print importances \n",
      "print important_features\n",
      "\n",
      "\n",
      "std = np.std([tree.feature_importances_ for tree in sv.estimators_],\n",
      "             axis=0)\n",
      "indices = np.argsort(importances)[::-1]\n",
      "\n",
      "# Print the feature ranking\n",
      "print(\"Feature ranking:\")\n",
      "#for f in important_features:\n",
      "    #print(\"%d. feature %d (%f)\" % (f + 1, indices[f], importances[indices[f]]))\n",
      "#    print  f\n",
      "for f in range(12):\n",
      "    print(\"%d. feature %d (%f)\" % (f + 1, indices[f], importances[indices[f]]))\n",
      "    \n",
      " # Adapted from http://scikit-learn.org/stable/auto_examples/ensemble/plot_gradient_boosting_regression.html\n",
      "pos = np.arange(indices.shape[0]) + .5\n",
      "#plt.subplot(1, 2, 2)\n",
      "plt.barh(pos, importances[important_idx][indices[::-1]], align='center')\n",
      "plt.yticks(pos, important_features[indices[::-1]])\n",
      "plt.xlabel('Relative Importance')\n",
      "plt.title('Variable Importance')\n",
      "plt.grid()\n",
      "plt.draw()\n",
      "#plt.savefig(\"/home/aamnah/Google Drive/Project_BikeSharing/research-project-templete-amnah/Template/images/FEATURE__111.png\")\n",
      "plt.show()   "
     ],
     "language": "python",
     "metadata": {},
     "outputs": [
      {
       "output_type": "stream",
       "stream": "stdout",
       "text": [
        "[ 0.00635961  0.00201871  0.04866636  0.0143298   0.0575928   0.04750143\n",
        "  0.02940956  0.00898503  0.05173438  0.04428394  0.60166302  0.08745537]\n",
        "['season' 'holiday' 'workingday' 'weather' 'temp' 'atemp' 'humidity'\n",
        " 'windspeed' 'month' 'day' 'hour' 'year']\n",
        "Feature ranking:"
       ]
      },
      {
       "output_type": "stream",
       "stream": "stdout",
       "text": [
        "\n",
        "1. feature 10 (0.601663)\n",
        "2. feature 11 (0.087455)\n",
        "3. feature 4 (0.057593)\n",
        "4. feature 8 (0.051734)\n",
        "5. feature 2 (0.048666)\n",
        "6. feature 5 (0.047501)\n",
        "7. feature 9 (0.044284)\n",
        "8. feature 6 (0.029410)\n",
        "9. feature 3 (0.014330)\n",
        "10. feature 7 (0.008985)\n",
        "11. feature 0 (0.006360)\n",
        "12. feature 1 (0.002019)\n"
       ]
      },
      {
       "metadata": {},
       "output_type": "display_data",
       "png": "[encoded data removed]",
       "text": [
        "<matplotlib.figure.Figure at 0x7f24923e8f90>"
       ]
      }
     ],
     "prompt_number": 18
    },
    {
     "cell_type": "markdown",
     "metadata": {},
     "source": [
      "#Feature importance  casual"
     ]
    },
    {
     "cell_type": "code",
     "collapsed": false,
     "input": [
      "\n",
      "\n",
      "import numpy as np\n",
      "import matplotlib.pyplot as plt\n",
      "\n",
      "from sklearn.datasets import make_classification\n",
      "from sklearn.ensemble import ExtraTreesClassifier\n",
      "\n",
      "features_list = df_train.columns.values\n",
      "#sv = RandomForestRegressor(n_estimators = 500).fit(df_train_data11, df_train_target11)\n",
      "\n",
      "#start with casual\n",
      "importances = svcC.feature_importances_\n",
      "\n",
      "important_idx = np.where(importances)[0] \n",
      "\n",
      "\n",
      "important_features = features_list[important_idx]\n",
      "\n",
      "print importances \n",
      "print important_features\n",
      "\n",
      "\n",
      "std = np.std([tree.feature_importances_ for tree in svcC.estimators_],\n",
      "             axis=0)\n",
      "indices = np.argsort(importances)[::-1]\n",
      "\n",
      "# Print the feature ranking\n",
      "print(\"Feature ranking:\")\n",
      "#for f in important_features:\n",
      "    #print(\"%d. feature %d (%f)\" % (f + 1, indices[f], importances[indices[f]]))\n",
      "#    print  f\n",
      "for f in range(11):\n",
      "    print(\"%d. feature %d (%f)\" % (f + 1, indices[f], importances[indices[f]]))\n",
      "    \n",
      " # Adapted from http://scikit-learn.org/stable/auto_examples/ensemble/plot_gradient_boosting_regression.html\n",
      "pos = np.arange(indices.shape[0]) + .5\n",
      "#plt.subplot(1, 2, 2)\n",
      "plt.barh(pos, importances[important_idx][indices[::-1]], align='center')\n",
      "plt.yticks(pos, important_features[indices[::-1]])\n",
      "plt.xlabel('Relative Importance')\n",
      "plt.title('Variable Importance')\n",
      "plt.grid()\n",
      "plt.draw()\n",
      "#plt.savefig(\"/home/aamnah/Google Drive/Project_BikeSharing/research-project-templete-amnah/Template/images/FEATURE__Casual.png\")\n",
      "plt.show()   "
     ],
     "language": "python",
     "metadata": {},
     "outputs": [
      {
       "ename": "NameError",
       "evalue": "name 'df_train' is not defined",
       "output_type": "pyerr",
       "traceback": [
        "\u001b[0;31m---------------------------------------------------------------------------\u001b[0m\n\u001b[0;31mNameError\u001b[0m                                 Traceback (most recent call last)",
        "\u001b[0;32m<ipython-input-1-75c9d964c06f>\u001b[0m in \u001b[0;36m<module>\u001b[0;34m()\u001b[0m\n\u001b[1;32m      7\u001b[0m \u001b[0;32mfrom\u001b[0m \u001b[0msklearn\u001b[0m\u001b[0;34m.\u001b[0m\u001b[0mensemble\u001b[0m \u001b[0;32mimport\u001b[0m \u001b[0mExtraTreesClassifier\u001b[0m\u001b[0;34m\u001b[0m\u001b[0m\n\u001b[1;32m      8\u001b[0m \u001b[0;34m\u001b[0m\u001b[0m\n\u001b[0;32m----> 9\u001b[0;31m \u001b[0mfeatures_list\u001b[0m \u001b[0;34m=\u001b[0m \u001b[0mdf_train\u001b[0m\u001b[0;34m.\u001b[0m\u001b[0mcolumns\u001b[0m\u001b[0;34m.\u001b[0m\u001b[0mvalues\u001b[0m\u001b[0;34m\u001b[0m\u001b[0m\n\u001b[0m\u001b[1;32m     10\u001b[0m \u001b[0;31m#sv = RandomForestRegressor(n_estimators = 500).fit(df_train_data11, df_train_target11)\u001b[0m\u001b[0;34m\u001b[0m\u001b[0;34m\u001b[0m\u001b[0m\n\u001b[1;32m     11\u001b[0m \u001b[0;34m\u001b[0m\u001b[0m\n",
        "\u001b[0;31mNameError\u001b[0m: name 'df_train' is not defined"
       ]
      }
     ],
     "prompt_number": 1
    },
    {
     "cell_type": "markdown",
     "metadata": {},
     "source": [
      "#Feature importance  registered"
     ]
    },
    {
     "cell_type": "code",
     "collapsed": false,
     "input": [
      "import numpy as np\n",
      "import matplotlib.pyplot as plt\n",
      "\n",
      "from sklearn.datasets import make_classification\n",
      "from sklearn.ensemble import ExtraTreesClassifier\n",
      "\n",
      "features_list = df_train.columns.values\n",
      "#sv = RandomForestRegressor(n_estimators = 500).fit(df_train_data11, df_train_target11)\n",
      "\n",
      "#start with casual\n",
      "importances = svcA.feature_importances_\n",
      "\n",
      "important_idx = np.where(importances)[0] \n",
      "\n",
      "\n",
      "important_features = features_list[important_idx]\n",
      "\n",
      "print importances \n",
      "print important_features\n",
      "\n",
      "\n",
      "std = np.std([tree.feature_importances_ for tree in svcA.estimators_],\n",
      "             axis=0)\n",
      "indices = np.argsort(importances)[::-1]\n",
      "\n",
      "# Print the feature ranking\n",
      "print(\"Feature ranking:\")\n",
      "#for f in important_features:\n",
      "    #print(\"%d. feature %d (%f)\" % (f + 1, indices[f], importances[indices[f]]))\n",
      "#    print  f\n",
      "for f in range(11):\n",
      "    print(\"%d. feature %d (%f)\" % (f + 1, indices[f], importances[indices[f]]))\n",
      "    \n",
      " # Adapted from http://scikit-learn.org/stable/auto_examples/ensemble/plot_gradient_boosting_regression.html\n",
      "pos = np.arange(indices.shape[0]) + .5\n",
      "#plt.subplot(1, 2, 2)\n",
      "plt.barh(pos, importances[important_idx][indices[::-1]], align='center')\n",
      "plt.yticks(pos, important_features[indices[::-1]])\n",
      "plt.xlabel('Relative Importance')\n",
      "plt.title('Variable Importance')\n",
      "plt.grid()\n",
      "plt.draw()\n",
      "#plt.savefig(\"/home/aamnah/Google Drive/Project_BikeSharing/research-project-templete-amnah/Template/images/FEATURE__Registred.png\")\n",
      "plt.show()   \n"
     ],
     "language": "python",
     "metadata": {},
     "outputs": [
      {
       "ename": "NameError",
       "evalue": "name 'df_train' is not defined",
       "output_type": "pyerr",
       "traceback": [
        "\u001b[0;31m---------------------------------------------------------------------------\u001b[0m\n\u001b[0;31mNameError\u001b[0m                                 Traceback (most recent call last)",
        "\u001b[0;32m<ipython-input-2-59c972d8be61>\u001b[0m in \u001b[0;36m<module>\u001b[0;34m()\u001b[0m\n\u001b[1;32m      5\u001b[0m \u001b[0;32mfrom\u001b[0m \u001b[0msklearn\u001b[0m\u001b[0;34m.\u001b[0m\u001b[0mensemble\u001b[0m \u001b[0;32mimport\u001b[0m \u001b[0mExtraTreesClassifier\u001b[0m\u001b[0;34m\u001b[0m\u001b[0m\n\u001b[1;32m      6\u001b[0m \u001b[0;34m\u001b[0m\u001b[0m\n\u001b[0;32m----> 7\u001b[0;31m \u001b[0mfeatures_list\u001b[0m \u001b[0;34m=\u001b[0m \u001b[0mdf_train\u001b[0m\u001b[0;34m.\u001b[0m\u001b[0mcolumns\u001b[0m\u001b[0;34m.\u001b[0m\u001b[0mvalues\u001b[0m\u001b[0;34m\u001b[0m\u001b[0m\n\u001b[0m\u001b[1;32m      8\u001b[0m \u001b[0;31m#sv = RandomForestRegressor(n_estimators = 500).fit(df_train_data11, df_train_target11)\u001b[0m\u001b[0;34m\u001b[0m\u001b[0;34m\u001b[0m\u001b[0m\n\u001b[1;32m      9\u001b[0m \u001b[0;34m\u001b[0m\u001b[0m\n",
        "\u001b[0;31mNameError\u001b[0m: name 'df_train' is not defined"
       ]
      }
     ],
     "prompt_number": 2
    },
    {
     "cell_type": "markdown",
     "metadata": {},
     "source": [
      "#Hyperparameter tuning"
     ]
    },
    {
     "cell_type": "code",
     "collapsed": false,
     "input": [
      "#I will leave this task to you. Below is the implementation of the Grid Search. \n",
      "#The Grid Search is used for evaluating the best estimator performance score. \n",
      "#I am using train-test-split cross-validation which will give me random train and test subsets. \n",
      "#tuned_paramaters - that's where I set my estimators to be checked. grid_scores_ - returns: \n",
      "#* a dict of parameter settings (in our case tuned_parameters) * the mean score over the cross-validation \n",
      "#folds * the list of scores for each fold best_estimator_ - returns the best estimator chosen by the search \n",
      "\n",
      "\n",
      "#start with casual\n",
      "X = df_train_data\n",
      "y = df_train_target   #split for 20% test set, 80% train set\n",
      "\n",
      "X_train, X_test, y_train, y_test = cross_validation.train_test_split(\n",
      "    X, y, test_size=0.2, random_state=0)\n",
      "\n",
      "tuned_parameters = [{'n_estimators':[100,500,1000]}]   \n",
      "    \n",
      "scores = ['r2']\n",
      "\n",
      "for score in scores:\n",
      "    \n",
      "    print score\n",
      "    \n",
      "    clf = GridSearchCV(RandomForestRegressor(), tuned_parameters, cv=5, scoring=score)\n",
      "    clf.fit(X_train, y_train)\n",
      "\n",
      "    print(\"Best parameters set found on development set:\")\n",
      "    print \"\"\n",
      "    #best_estimator_ returns the best estimator chosen by the search\n",
      "    print(clf.best_estimator_)\n",
      "    print \"\"\n",
      "    print(\"Grid scores on development set:\")\n",
      "    print \"\"\n",
      "    #grid_scores_ returns:\n",
      "    #    * a dict of parameter settings\n",
      "    #    * the mean score over the cross-validation folds \n",
      "    #    * the list of scores for each fold\n",
      "    for params, mean_score, scores in clf.grid_scores_:\n",
      "        print(\"%0.3f (+/-%0.03f) for %r\"\n",
      "              % (mean_score, scores.std() / 2, params))\n",
      "    print \"\""
     ],
     "language": "python",
     "metadata": {},
     "outputs": [
      {
       "output_type": "stream",
       "stream": "stdout",
       "text": [
        "r2\n",
        "Best parameters set found on development set:"
       ]
      },
      {
       "output_type": "stream",
       "stream": "stdout",
       "text": [
        "\n",
        "\n",
        "RandomForestRegressor(bootstrap=True, criterion='mse', max_depth=None,\n",
        "           max_features='auto', max_leaf_nodes=None, min_samples_leaf=1,\n",
        "           min_samples_split=2, min_weight_fraction_leaf=0.0,\n",
        "           n_estimators=1000, n_jobs=1, oob_score=False, random_state=None,\n",
        "           verbose=0, warm_start=False)\n",
        "\n",
        "Grid scores on development set:\n",
        "\n",
        "0.907 (+/-0.003) for {'n_estimators': 100}\n",
        "0.908 (+/-0.003) for {'n_estimators': 500}\n",
        "0.908 (+/-0.003) for {'n_estimators': 1000}\n",
        "\n"
       ]
      }
     ],
     "prompt_number": 34
    },
    {
     "cell_type": "markdown",
     "metadata": {},
     "source": [
      "#Learning curve"
     ]
    },
    {
     "cell_type": "code",
     "collapsed": false,
     "input": [
      "#This looks good. Now it's ease to pick the estimator that gives us the best result.\n",
      "#Now you can see how Grid Search can be helpful using multiple estimators for other models e.g. SVM.\n",
      "#I would also like to see if the model is high bias or high variance. \n",
      "#Thus I will use learning curve which will graphically display train and cross validation curves. \n",
      "\n",
      "\n",
      "#CASUAL\n",
      "def plot_learning_curve(estimator, title, X, y, ylim=None, cv=None,\n",
      "                        n_jobs=1, train_sizes=np.linspace(.1, 1.0, 5)):\n",
      "    \n",
      "    plt.figure()\n",
      "    plt.title(title)\n",
      "    if ylim is not None:\n",
      "        plt.ylim(*ylim)\n",
      "    plt.xlabel(\"Training examples\")\n",
      "    plt.ylabel(\"Score\")\n",
      "    train_sizes, train_scores, test_scores = learning_curve(\n",
      "        estimator, X, y, cv=cv, n_jobs=n_jobs, train_sizes=train_sizes)\n",
      "    train_scores_mean = np.mean(train_scores, axis=1)\n",
      "    train_scores_std = np.std(train_scores, axis=1)\n",
      "    test_scores_mean = np.mean(test_scores, axis=1)\n",
      "    test_scores_std = np.std(test_scores, axis=1)\n",
      "    plt.grid()\n",
      "\n",
      "    plt.fill_between(train_sizes, train_scores_mean - train_scores_std,\n",
      "                     train_scores_mean + train_scores_std, alpha=0.1,\n",
      "                     color=\"r\")\n",
      "    plt.fill_between(train_sizes, test_scores_mean - test_scores_std,\n",
      "                     test_scores_mean + test_scores_std, alpha=0.1, color=\"g\")\n",
      "    plt.plot(train_sizes, train_scores_mean, 'o-', color=\"r\",\n",
      "             label=\"Training score\")\n",
      "    plt.plot(train_sizes, test_scores_mean, 'o-', color=\"g\",\n",
      "             label=\"Cross-validation score\")\n",
      "\n",
      "    plt.legend(loc=\"best\")\n",
      "    return plt\n",
      "\n",
      "\n",
      "title = \"Learning Curves (Random Forest, n_estimators = 100)\"\n",
      "cv = cross_validation.ShuffleSplit(df_train_data.shape[0], n_iter=10,test_size=0.2, random_state=0)#LOOOOOOK\n",
      "estimator = RandomForestRegressor(n_estimators = 100)\n",
      "plot_learning_curve(estimator, title, X, y, (0.0, 1.01), cv=cv, n_jobs=4)\n",
      "#plt.savefig(\"/home/aamnah/Google Drive/Project_BikeSharing/research-project-templete-amnah/Template/images/learn_curve.png\")\n",
      "plt.show()"
     ],
     "language": "python",
     "metadata": {},
     "outputs": [
      {
       "metadata": {},
       "output_type": "display_data",
       "png": "[encoded data removed]",
       "text": [
        "<matplotlib.figure.Figure at 0x7f5e8b33ce10>"
       ]
      }
     ],
     "prompt_number": 35
    },
    {
     "cell_type": "code",
     "collapsed": false,
     "input": [],
     "language": "python",
     "metadata": {},
     "outputs": [],
     "prompt_number": 35
    },
    {
     "cell_type": "markdown",
     "metadata": {},
     "source": [
      "#TEST FOR REGISTER "
     ]
    },
    {
     "cell_type": "code",
     "collapsed": false,
     "input": [
      "#I will leave this task to you. Below is the implementation of the Grid Search. \n",
      "#The Grid Search is used for evaluating the best estimator performance score. \n",
      "#I am using train-test-split cross-validation which will give me random train and test subsets. \n",
      "#tuned_paramaters - that's where I set my estimators to be checked. grid_scores_ - returns: \n",
      "#* a dict of parameter settings (in our case tuned_parameters) * the mean score over the cross-validation \n",
      "#folds * the list of scores for each fold best_estimator_ - returns the best estimator chosen by the search \n",
      "\n",
      "\n",
      "#start with casual\n",
      "X = df_train_data1\n",
      "y = df_train_target1   #split for 20% test set, 80% train set\n",
      "\n",
      "X_train, X_test, y_train, y_test = cross_validation.train_test_split(\n",
      "    X, y, test_size=0.2, random_state=0)\n",
      "\n",
      "tuned_parameters = [{'n_estimators':[100,500,1000]}]   \n",
      "    \n",
      "scores = ['r2']\n",
      "\n",
      "for score in scores:\n",
      "    \n",
      "    print score\n",
      "    \n",
      "    clf = GridSearchCV(RandomForestRegressor(), tuned_parameters, cv=5, scoring=score)\n",
      "    clf.fit(X_train, y_train)\n",
      "\n",
      "    print(\"Best parameters set found on development set:\")\n",
      "    print \"\"\n",
      "    #best_estimator_ returns the best estimator chosen by the search\n",
      "    print(clf.best_estimator_)\n",
      "    print \"\"\n",
      "    print(\"Grid scores on development set:\")\n",
      "    print \"\"\n",
      "    #grid_scores_ returns:\n",
      "    #    * a dict of parameter settings\n",
      "    #    * the mean score over the cross-validation folds \n",
      "    #    * the list of scores for each fold\n",
      "    for params, mean_score, scores in clf.grid_scores_:\n",
      "        print(\"%0.3f (+/-%0.03f) for %r\"\n",
      "              % (mean_score, scores.std() / 2, params))\n",
      "    print \"\"\n",
      "    \n",
      "    \n",
      "    \n",
      "    \n",
      "    \n",
      "    #This looks good. Now it's ease to pick the estimator that gives us the best result.\n",
      "#Now you can see how Grid Search can be helpful using multiple estimators for other models e.g. SVM.\n",
      "#I would also like to see if the model is high bias or high variance. \n",
      "#Thus I will use learning curve which will graphically display train and cross validation curves. \n",
      "\n",
      "\n",
      "#CASUAL\n",
      "def plot_learning_curve(estimator, title, X, y, ylim=None, cv=None,\n",
      "                        n_jobs=1, train_sizes=np.linspace(.1, 1.0, 5)):\n",
      "    \n",
      "    plt.figure()\n",
      "    plt.title(title)\n",
      "    if ylim is not None:\n",
      "        plt.ylim(*ylim)\n",
      "    plt.xlabel(\"Training examples\")\n",
      "    plt.ylabel(\"Score\")\n",
      "    train_sizes, train_scores, test_scores = learning_curve(\n",
      "        estimator, X, y, cv=cv, n_jobs=n_jobs, train_sizes=train_sizes)\n",
      "    train_scores_mean = np.mean(train_scores, axis=1)\n",
      "    train_scores_std = np.std(train_scores, axis=1)\n",
      "    test_scores_mean = np.mean(test_scores, axis=1)\n",
      "    test_scores_std = np.std(test_scores, axis=1)\n",
      "    plt.grid()\n",
      "\n",
      "    plt.fill_between(train_sizes, train_scores_mean - train_scores_std,\n",
      "                     train_scores_mean + train_scores_std, alpha=0.1,\n",
      "                     color=\"r\")\n",
      "    plt.fill_between(train_sizes, test_scores_mean - test_scores_std,\n",
      "                     test_scores_mean + test_scores_std, alpha=0.1, color=\"g\")\n",
      "    plt.plot(train_sizes, train_scores_mean, 'o-', color=\"r\",\n",
      "             label=\"Training score\")\n",
      "    plt.plot(train_sizes, test_scores_mean, 'o-', color=\"g\",\n",
      "             label=\"Cross-validation score\")\n",
      "\n",
      "    plt.legend(loc=\"best\")\n",
      "    return plt\n",
      "\n",
      "\n",
      "title = \"Learning Curves (Random Forest, n_estimators = 100)\"\n",
      "cv = cross_validation.ShuffleSplit(df_train_data1.shape[0], n_iter=10,test_size=0.2, random_state=0)#LOOOOOOK\n",
      "estimator = RandomForestRegressor(n_estimators = 100)\n",
      "plot_learning_curve(estimator, title, X, y, (0.0, 1.01), cv=cv, n_jobs=4)\n",
      "#plt.savefig(\"/home/aamnah/Google Drive/Project_BikeSharing/research-project-templete-amnah/Template/images/learn_curve.png\")\n",
      "plt.show()"
     ],
     "language": "python",
     "metadata": {},
     "outputs": [
      {
       "output_type": "stream",
       "stream": "stdout",
       "text": [
        "r2\n",
        "Best parameters set found on development set:"
       ]
      },
      {
       "output_type": "stream",
       "stream": "stdout",
       "text": [
        "\n",
        "\n",
        "RandomForestRegressor(bootstrap=True, criterion='mse', max_depth=None,\n",
        "           max_features='auto', max_leaf_nodes=None, min_samples_leaf=1,\n",
        "           min_samples_split=2, min_weight_fraction_leaf=0.0,\n",
        "           n_estimators=500, n_jobs=1, oob_score=False, random_state=None,\n",
        "           verbose=0, warm_start=False)\n",
        "\n",
        "Grid scores on development set:\n",
        "\n",
        "0.947 (+/-0.003) for {'n_estimators': 100}\n",
        "0.947 (+/-0.003) for {'n_estimators': 500}\n",
        "0.947 (+/-0.003) for {'n_estimators': 1000}\n",
        "\n"
       ]
      },
      {
       "metadata": {},
       "output_type": "display_data",
       "png": "[encoded data removed]",
       "text": [
        "<matplotlib.figure.Figure at 0x7f5e58d94b10>"
       ]
      }
     ],
     "prompt_number": 36
    },
    {
     "cell_type": "code",
     "collapsed": false,
     "input": [],
     "language": "python",
     "metadata": {},
     "outputs": [],
     "prompt_number": 36
    },
    {
     "cell_type": "markdown",
     "metadata": {},
     "source": [
      "#TEST FOR COUNT "
     ]
    },
    {
     "cell_type": "code",
     "collapsed": false,
     "input": [
      "#I will leave this task to you. Below is the implementation of the Grid Search. \n",
      "#The Grid Search is used for evaluating the best estimator performance score. \n",
      "#I am using train-test-split cross-validation which will give me random train and test subsets. \n",
      "#tuned_paramaters - that's where I set my estimators to be checked. grid_scores_ - returns: \n",
      "#* a dict of parameter settings (in our case tuned_parameters) * the mean score over the cross-validation \n",
      "#folds * the list of scores for each fold best_estimator_ - returns the best estimator chosen by the search \n",
      "\n",
      "\n",
      "#start with casual\n",
      "X = df_train_data11\n",
      "y = df_train_target11   #split for 20% test set, 80% train set\n",
      "\n",
      "X_train, X_test, y_train, y_test = cross_validation.train_test_split(\n",
      "    X, y, test_size=0.2, random_state=0)\n",
      "\n",
      "tuned_parameters = [{'n_estimators':[100,500,1000]}]   \n",
      "    \n",
      "scores = ['r2']\n",
      "\n",
      "for score in scores:\n",
      "    \n",
      "    print score\n",
      "    \n",
      "    clf = GridSearchCV(RandomForestRegressor(), tuned_parameters, cv=5, scoring=score)\n",
      "    clf.fit(X_train, y_train)\n",
      "\n",
      "    print(\"Best parameters set found on development set:\")\n",
      "    print \"\"\n",
      "    #best_estimator_ returns the best estimator chosen by the search\n",
      "    print(clf.best_estimator_)\n",
      "    print \"\"\n",
      "    print(\"Grid scores on development set:\")\n",
      "    print \"\"\n",
      "    #grid_scores_ returns:\n",
      "    #    * a dict of parameter settings\n",
      "    #    * the mean score over the cross-validation folds \n",
      "    #    * the list of scores for each fold\n",
      "    for params, mean_score, scores in clf.grid_scores_:\n",
      "        print(\"%0.3f (+/-%0.03f) for %r\"\n",
      "              % (mean_score, scores.std() / 2, params))\n",
      "    print \"\"\n",
      "    \n",
      "    \n",
      "    \n",
      "    \n",
      "    \n",
      "    #This looks good. Now it's ease to pick the estimator that gives us the best result.\n",
      "#Now you can see how Grid Search can be helpful using multiple estimators for other models e.g. SVM.\n",
      "#I would also like to see if the model is high bias or high variance. \n",
      "#Thus I will use learning curve which will graphically display train and cross validation curves. \n",
      "\n",
      "\n",
      "#CASUAL\n",
      "def plot_learning_curve(estimator, title, X, y, ylim=None, cv=None,\n",
      "                        n_jobs=1, train_sizes=np.linspace(.1, 1.0, 5)):\n",
      "    \n",
      "    plt.figure()\n",
      "    plt.title(title)\n",
      "    if ylim is not None:\n",
      "        plt.ylim(*ylim)\n",
      "    plt.xlabel(\"Training examples\")\n",
      "    plt.ylabel(\"Score\")\n",
      "    train_sizes, train_scores, test_scores = learning_curve(\n",
      "        estimator, X, y, cv=cv, n_jobs=n_jobs, train_sizes=train_sizes)\n",
      "    train_scores_mean = np.mean(train_scores, axis=1)\n",
      "    train_scores_std = np.std(train_scores, axis=1)\n",
      "    test_scores_mean = np.mean(test_scores, axis=1)\n",
      "    test_scores_std = np.std(test_scores, axis=1)\n",
      "    plt.grid()\n",
      "\n",
      "    plt.fill_between(train_sizes, train_scores_mean - train_scores_std,\n",
      "                     train_scores_mean + train_scores_std, alpha=0.1,\n",
      "                     color=\"r\")\n",
      "    plt.fill_between(train_sizes, test_scores_mean - test_scores_std,\n",
      "                     test_scores_mean + test_scores_std, alpha=0.1, color=\"g\")\n",
      "    plt.plot(train_sizes, train_scores_mean, 'o-', color=\"r\",\n",
      "             label=\"Training score\")\n",
      "    plt.plot(train_sizes, test_scores_mean, 'o-', color=\"g\",\n",
      "             label=\"Cross-validation score\")\n",
      "\n",
      "    plt.legend(loc=\"best\")\n",
      "    return plt\n",
      "\n",
      "\n",
      "title = \"Learning Curves (Random Forest, n_estimators = 100)\"\n",
      "cv = cross_validation.ShuffleSplit(df_train_data11.shape[0], n_iter=10,test_size=0.2, random_state=0)#LOOOOOOK\n",
      "estimator = RandomForestRegressor(n_estimators = 100)\n",
      "plot_learning_curve(estimator, title, X, y, (0.0, 1.01), cv=cv, n_jobs=4)\n",
      "#plt.savefig(\"/home/aamnah/Google Drive/Project_BikeSharing/research-project-templete-amnah/Template/images/learn_curve.png\")\n",
      "plt.show()"
     ],
     "language": "python",
     "metadata": {},
     "outputs": [
      {
       "output_type": "stream",
       "stream": "stdout",
       "text": [
        "r2\n",
        "Best parameters set found on development set:"
       ]
      },
      {
       "output_type": "stream",
       "stream": "stdout",
       "text": [
        "\n",
        "\n",
        "RandomForestRegressor(bootstrap=True, criterion='mse', max_depth=None,\n",
        "           max_features='auto', max_leaf_nodes=None, min_samples_leaf=1,\n",
        "           min_samples_split=2, min_weight_fraction_leaf=0.0,\n",
        "           n_estimators=1000, n_jobs=1, oob_score=False, random_state=None,\n",
        "           verbose=0, warm_start=False)"
       ]
      },
      {
       "output_type": "stream",
       "stream": "stdout",
       "text": [
        "\n",
        "\n",
        "Grid scores on development set:\n",
        "\n",
        "0.946 (+/-0.003) for {'n_estimators': 100}"
       ]
      },
      {
       "output_type": "stream",
       "stream": "stdout",
       "text": [
        "\n",
        "0.947 (+/-0.003) for {'n_estimators': 500}\n",
        "0.947 (+/-0.003) for {'n_estimators': 1000}\n",
        "\n"
       ]
      },
      {
       "metadata": {},
       "output_type": "display_data",
       "png": "[encoded data removed]",
       "text": [
        "<matplotlib.figure.Figure at 0x7f5e8d0fbf50>"
       ]
      }
     ],
     "prompt_number": 37
    },
    {
     "cell_type": "code",
     "collapsed": false,
     "input": [],
     "language": "python",
     "metadata": {},
     "outputs": [],
     "prompt_number": 37
    },
    {
     "cell_type": "code",
     "collapsed": false,
     "input": [],
     "language": "python",
     "metadata": {},
     "outputs": [],
     "prompt_number": 37
    },
    {
     "cell_type": "raw",
     "metadata": {},
     "source": [
      "Reapetion with Amnah 4"
     ]
    },
    {
     "cell_type": "markdown",
     "metadata": {},
     "source": [
      "#NEW STAGE TAKE CARE  Submit RF for casual Registered count  "
     ]
    },
    {
     "cell_type": "code",
     "collapsed": false,
     "input": [
      "#For optimaze predict each one casula and regested spartil and add thim together\n",
      "#remove atemp\n",
      "#take log10\n",
      "#add separet for workingday\n",
      "#take cosine sine for hour seasonalty \n",
      "#try to imporve gbm\n",
      "#paly with cv incease the tarning sets\n"
     ],
     "language": "python",
     "metadata": {},
     "outputs": [],
     "prompt_number": 38
    },
    {
     "cell_type": "code",
     "collapsed": false,
     "input": [
      "#NOW AFTER ALL THAT ANALYSIS LITS GO TO TEST AND SUBMIT 0000000 00000 000000 0000 OOOOOO 0000000\n",
      "df_test = pd.read_csv('/home/aamnah/Google Drive/Project_BikeSharing/code_and_data/Python_Code/test.csv',parse_dates=[\"datetime\"],header = 0)\n",
      "\n",
      "#To convert a Series or list-like object of date-like objects e.g. strings I can use the to_datetime function. Here I can use pd.DatetimeIndex to extract month, day and hour out of datetime column. For the day column I would like to show it as day of week, where Monday = 0 and Sunday = 6\n",
      "df_test['month'] = pd.DatetimeIndex(df_test.datetime).month\n",
      "df_test['day'] = pd.DatetimeIndex(df_test.datetime).dayofweek\n",
      "df_test['hour'] = pd.DatetimeIndex(df_test.datetime).hour\n",
      "df_test['year'] = pd.DatetimeIndex(df_test.datetime).year"
     ],
     "language": "python",
     "metadata": {},
     "outputs": [],
     "prompt_number": 36
    },
    {
     "cell_type": "code",
     "collapsed": false,
     "input": [
      "#Since I got all the information from datetime column, now I will delete it. I will delete casual and registered customer columns as well, to make it more simpler and match test data file.\n",
      "df_test = df_test.drop(['datetime'], axis = 1)"
     ],
     "language": "python",
     "metadata": {},
     "outputs": [],
     "prompt_number": 37
    },
    {
     "cell_type": "code",
     "collapsed": false,
     "input": [
      "#Since I got all the information from datetime column, now I will delete it. I will delete casual and registered customer columns as well, to make it more simpler and match test data file.\n",
      "#df_test = df_test.drop(['datetime'], axis = 1)"
     ],
     "language": "python",
     "metadata": {},
     "outputs": [],
     "prompt_number": 41
    },
    {
     "cell_type": "code",
     "collapsed": false,
     "input": [
      "#rf = RandomForestRegressor(n_estimators=1000, min_samples_split=6, oob_score=True)\n",
      "#svc = RandomForestRegressor(n_estimators = 100).fit(df_train_data[train], df_train_target[train])\n",
      "#This the best result based on the Grid search outcome\n",
      "rf = RandomForestRegressor(min_samples_split=11, n_estimators=500)\n",
      "count_rf = rf.fit(df_train_data, df_train_target)\n",
      "count = rf.predict(df_test)\n",
      "\n",
      "count_rf1 = rf.fit(df_train_data1, df_train_target1)\n",
      "count1 = rf.predict(df_test)\n",
      "\n",
      "count_total = [abs(int(round(i+j))) for i,j in zip(count, count1)]\n",
      "#count_total = count+count1"
     ],
     "language": "python",
     "metadata": {},
     "outputs": [],
     "prompt_number": 42
    },
    {
     "cell_type": "code",
     "collapsed": false,
     "input": [
      "#gbr = GradientBoostingRegressor(n_estimators = 100, max_depth=6)\n",
      "\n",
      "gbr = BaggingRegressor(n_estimators = 100, max_depth=6)  # Beacuse it has better scores \n",
      "\n",
      "\n",
      "r = gbr.fit(df_train_data[train], df_train_target[train]) \n",
      "countln = gbr.predict(df_test)\n",
      "\n",
      "\n",
      "r2 = gbr.fit(df_train_data1[train], df_train_target1[train])\n",
      "countln1 = gbr.predict(df_test)\n",
      "\n",
      "count_total_ln = [abs(int(round(i+j))) for i,j in zip(countln, countln1)]\n",
      "\n",
      "#COUNTS = [(i+j)/2. for i,j in zip(count_total, count_total_ln)]"
     ],
     "language": "python",
     "metadata": {},
     "outputs": [
      {
       "ename": "TypeError",
       "evalue": "__init__() got an unexpected keyword argument 'max_depth'",
       "output_type": "pyerr",
       "traceback": [
        "\u001b[0;31m---------------------------------------------------------------------------\u001b[0m\n\u001b[0;31mTypeError\u001b[0m                                 Traceback (most recent call last)",
        "\u001b[0;32m<ipython-input-24-98c4ea8f249e>\u001b[0m in \u001b[0;36m<module>\u001b[0;34m()\u001b[0m\n\u001b[1;32m      1\u001b[0m \u001b[0;31m#gbr = GradientBoostingRegressor(n_estimators = 100, max_depth=6)\u001b[0m\u001b[0;34m\u001b[0m\u001b[0;34m\u001b[0m\u001b[0m\n\u001b[1;32m      2\u001b[0m \u001b[0;34m\u001b[0m\u001b[0m\n\u001b[0;32m----> 3\u001b[0;31m \u001b[0mgbr\u001b[0m \u001b[0;34m=\u001b[0m \u001b[0mBaggingRegressor\u001b[0m\u001b[0;34m(\u001b[0m\u001b[0mn_estimators\u001b[0m \u001b[0;34m=\u001b[0m \u001b[0;36m100\u001b[0m\u001b[0;34m,\u001b[0m \u001b[0mmax_depth\u001b[0m\u001b[0;34m=\u001b[0m\u001b[0;36m6\u001b[0m\u001b[0;34m)\u001b[0m  \u001b[0;31m# Beacuse it has better scores\u001b[0m\u001b[0;34m\u001b[0m\u001b[0m\n\u001b[0m\u001b[1;32m      4\u001b[0m \u001b[0;34m\u001b[0m\u001b[0m\n\u001b[1;32m      5\u001b[0m \u001b[0;34m\u001b[0m\u001b[0m\n",
        "\u001b[0;31mTypeError\u001b[0m: __init__() got an unexpected keyword argument 'max_depth'"
       ]
      }
     ],
     "prompt_number": 24
    },
    {
     "cell_type": "code",
     "collapsed": false,
     "input": [
      "\n",
      "rf = RandomForestRegressor(min_samples_split=11, n_estimators=500)\n",
      "count_rf = rf.fit(df_train_data11, df_train_target11)\n",
      "count = rf.predict(df_test)\n",
      "\n",
      "#count_total = count+count1"
     ],
     "language": "python",
     "metadata": {},
     "outputs": []
    },
    {
     "cell_type": "code",
     "collapsed": false,
     "input": [
      "rf =AdaBoostRegressor(DecisionTreeRegressor(max_depth=4),\n",
      "                          n_estimators=500, random_state=True)\n",
      "\n",
      "\n",
      "count_rf = rf.fit(df_train_data, df_train_target)\n",
      "count = rf.predict(df_test)\n",
      "\n",
      "#count_rf1 = rf.fit(df_train_data1, df_train_target1)\n",
      "#count12 = rf.predict(df_test)\n",
      "\n",
      "#count = [abs(int(round(i+j))) for i,j in zip(count1, count12)]\n"
     ],
     "language": "python",
     "metadata": {},
     "outputs": [],
     "prompt_number": 38
    },
    {
     "cell_type": "code",
     "collapsed": false,
     "input": [
      "df_test = pd.read_csv('/home/aamnah/Google Drive/Project_BikeSharing/code_and_data/Python_Code/test.csv',parse_dates=[\"datetime\"],header = 0)\n",
      "df_submission = pd.DataFrame(count, df_test[\"datetime\"] , columns = ['count'])\n",
      "pd.DataFrame.to_csv(df_submission ,'Please_decision_Ada.csv')\n",
      "#Rf submit 21-6-2015  very Very bad result 3.67698."
     ],
     "language": "python",
     "metadata": {},
     "outputs": [],
     "prompt_number": 39
    },
    {
     "cell_type": "code",
     "collapsed": false,
     "input": [
      "##Plotting\n",
      "plt.figure();\n",
      "#plt.plot(df_train.counts)\n",
      "#plt.title(\"Actual model\")\n",
      "plt.xlabel(\"Period 2011-2012\")\n",
      "plt.ylabel(\"Count\")\n",
      "#plt.savefig(\"/home/aamnah/Google Drive/Project_BikeSharing/research-project-templete-amnah/Template/images/actual_1.png\")\n",
      "\n",
      "plt.figure();\n",
      "plt.plot(count_total)\n",
      "#plt.title(\"Random forest prediction\")\n",
      "plt.xlabel(\"Period 2011-2012\")\n",
      "plt.ylabel(\"Count\")\n",
      "#plt.savefig(\"/home/aamnah/Google Drive/Project_BikeSharing/research-project-templete-amnah/Template/images/randomforest_predict_1.png\")\n",
      "plt.show()   "
     ],
     "language": "python",
     "metadata": {},
     "outputs": []
    },
    {
     "cell_type": "code",
     "collapsed": false,
     "input": [],
     "language": "python",
     "metadata": {},
     "outputs": []
    },
    {
     "cell_type": "code",
     "collapsed": false,
     "input": [],
     "language": "python",
     "metadata": {},
     "outputs": []
    },
    {
     "cell_type": "code",
     "collapsed": false,
     "input": [
      "metrics.accuracy_score(y, y_pred)"
     ],
     "language": "python",
     "metadata": {},
     "outputs": []
    },
    {
     "cell_type": "code",
     "collapsed": false,
     "input": [],
     "language": "python",
     "metadata": {},
     "outputs": []
    }
   ],
   "metadata": {}
  }
 ]
}