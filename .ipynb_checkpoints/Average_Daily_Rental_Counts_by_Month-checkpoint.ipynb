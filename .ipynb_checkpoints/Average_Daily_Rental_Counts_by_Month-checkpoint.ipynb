{
 "metadata": {
  "name": "",
  "signature": "sha256:cd01884dba33ab3f2deca5d1dd43d4c146f74077065bce149ff0207705efe51e"
 },
 "nbformat": 3,
 "nbformat_minor": 0,
 "worksheets": [
  {
   "cells": [
    {
     "cell_type": "code",
     "collapsed": false,
     "input": [
      "import matplotlib\n",
      "matplotlib.use(\"Agg\")\n",
      "import matplotlib.pyplot as plt\n",
      "import datetime\n",
      "import pandas as pd\n",
      "import statsmodels.api as sm\n",
      "\n",
      "#Read our data into dataframe\n",
      "df = pd.read_csv(\"/home/aamnah/Google Drive/Project_BikeSharing/code_and_data/Python_Code/train.csv\")\n",
      "\n",
      "#Prepare the dataframe for grouping on date\n",
      "df[\"datetime\"] = pd.to_datetime(df[\"datetime\"])\n",
      "df['datetime_minus_time'] = df[\"datetime\"].apply(lambda df: datetime.datetime(year=df.year, month=df.month, day=df.day))\n",
      "df.set_index(df[\"datetime_minus_time\"],inplace=True)\n",
      "\n",
      "#Get our data\n",
      "avg_counts_per_month = df[\"counts\"].resample(\"M\", how=\"sum\")\n",
      "\n",
      "plt.figure()\n",
      "plt.xticks = [k.strftime('%b %Y') for k in list(avg_counts_per_month.index)]\n",
      "\n",
      "\n",
      "#plt.plot(avg_counts_per_month)\n",
      "#plotting\n",
      "plt.barh([x for x in range(len(xticks))], list(avg_counts_per_month), align='center', alpha=0.4)\n",
      "plt.yticks([x for x in range(len(xticks))], xticks,fontsize=9)\n",
      "\n",
      "plt.xlabel(\"Count\", fontsize=14)\n",
      "plt.title(\"The count of rentals per month shows signs of growth and summer-time peaks\", fontsize=11, fontweight='bold')\n",
      "plt.gca().xaxis.grid(True,linestyle='-',alpha=0.1)\n",
      "plt.gca().yaxis.grid(True,alpha=0.4)\n",
      "#plt.savefig(\"monthly-rental-counts1.png\")\n",
      "plt.show()"
     ],
     "language": "python",
     "metadata": {},
     "outputs": [],
     "prompt_number": 8
    },
    {
     "cell_type": "code",
     "collapsed": false,
     "input": [],
     "language": "python",
     "metadata": {},
     "outputs": [],
     "prompt_number": 9
    },
    {
     "cell_type": "code",
     "collapsed": false,
     "input": [],
     "language": "python",
     "metadata": {},
     "outputs": []
    }
   ],
   "metadata": {}
  }
 ]
}