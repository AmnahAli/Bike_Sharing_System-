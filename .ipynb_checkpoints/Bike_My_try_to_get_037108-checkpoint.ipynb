{
 "metadata": {
  "name": "",
  "signature": "sha256:9045516f5e9fb234492fc740bc3d6986f8780a6d981fb2d752fadd97a4131312"
 },
 "nbformat": 3,
 "nbformat_minor": 0,
 "worksheets": [
  {
   "cells": [
    {
     "cell_type": "code",
     "collapsed": false,
     "input": [
      "import numpy as np\n",
      "import pandas as pd\n",
      "import matplotlib.pyplot as plt\n",
      "%matplotlib inline\n",
      "import matplotlib\n",
      "\n",
      "#First let's open Bicycle train.csv and take a look at it. \n",
      "f_day = pd.DataFrame.from_csv('/home/aamnah/Google Drive/Project_BikeSharing/code_and_data/Python_Code/day.csv',header = 0)\n",
      "f_hour = pd.DataFrame.from_csv('/home/aamnah/Google Drive/Project_BikeSharing/code_and_data/Python_Code/hour.csv',header = 0)\n",
      "\n",
      "\n",
      "f_day.head(1)\n",
      "f_hour.head(1)\n",
      "\n",
      "\n",
      "plt.figure();\n",
      "plt.plot(f_day.cnt[0:25])\n",
      "\n",
      "plt.figure();\n",
      "plt.plot(f_hour.cnt[0:48])\n"
     ],
     "language": "python",
     "metadata": {},
     "outputs": [
      {
       "metadata": {},
       "output_type": "pyout",
       "prompt_number": 59,
       "text": [
        "[<matplotlib.lines.Line2D at 0x7fba598c6cd0>]"
       ]
      },
      {
       "metadata": {},
       "output_type": "display_data",
       "png": "[encoded data removed]",
       "text": [
        "<matplotlib.figure.Figure at 0x7fba5e422d90>"
       ]
      },
      {
       "metadata": {},
       "output_type": "display_data",
       "png": "[encoded data removed]",
       "text": [
        "<matplotlib.figure.Figure at 0x7fba5b3d5750>"
       ]
      }
     ],
     "prompt_number": 59
    },
    {
     "cell_type": "code",
     "collapsed": false,
     "input": [
      "import numpy as np\n",
      "import pandas as pd\n",
      "import matplotlib.pyplot as plt\n",
      "%matplotlib inline\n",
      "import matplotlib\n",
      "\n",
      "#First let's open Bicycle train.csv and take a look at it. \n",
      "df_train = pd.read_csv('/home/aamnah/Google Drive/Project_BikeSharing/code_and_data/Python_Code/train.csv',parse_dates=[\"datetime\"],header = 0)\n",
      "df_test = pd.read_csv('/home/aamnah/Google Drive/Project_BikeSharing/code_and_data/Python_Code/test.csv',parse_dates=[\"datetime\"],header = 0)\n",
      "\n",
      "#set(\"/home/aamnah/Google Drive/Project_BikeSharing/research-project-templete-amnah/Template/images\")\n",
      "#First let's open Bicycle train.csv and take a look at it. \n",
      "#df_train = pd.DataFrame.from_csv('/home/aamnah/Google Drive/Project_BikeSharing/code_and_data/Python_Code/train.csv',parse_dates=[\"datetime\"],header = 0)\n",
      "#In order to see the data we just read in we can use Pandas head command. It allows us to look at any number of lines we need to. I'll go ahead and look at first 100 lines of data. \n",
      "df_train.head(1)\n",
      "\n",
      "\n",
      "#Great! Pandas orginizes everything in a neat table. I wonder what data types we have?\n",
      "df_train.dtypes\n",
      "\n",
      "\n",
      "#It would be nice to see how big is our matrix: \n",
      "df_train.shape\n",
      "#So I have 10888 lines and 12 features(columns). I would also like to see if there are any missing values in any of the columns\n",
      "df_train.count()\n",
      "#Nice. We don't have anything missing in any column. The only problem for now is the datetime column which is Pandas Series. \n",
      "type(df_train.datetime)\n",
      "#To convert a Series or list-like object of date-like objects e.g. strings I can use the to_datetime function. Here I can use pd.DatetimeIndex to extract month, day and hour out of datetime column. For the day column I would like to show it as day of week, where Monday = 0 and Sunday = 6\n",
      "df_train['month'] = pd.DatetimeIndex(df_train.datetime).month\n",
      "df_train['day'] = pd.DatetimeIndex(df_train.datetime).dayofweek\n",
      "#df_train['days'] = pd.DatetimeIndex(df_train.datetime).date\n",
      "df_train['hour'] = pd.DatetimeIndex(df_train.datetime).hour\n",
      "df_train['year'] = pd.DatetimeIndex(df_train.datetime).year\n",
      "#df_train['weekday'] = pd.DatetimeIndex(df_train.datetime).week\n",
      "#df_train['Saturday']=0\n",
      "#df_train['Sunday']=0\n",
      "#df_train.Saturday[df_train.day==5]=1\n",
      "#df_train.Sunday[df_train.day==6]=1\n",
      "#g = df_train.groupby(pd.DatetimeIndex(df_train['day']).normalize())\n",
      "#g = df_train.groupby(df_train['day'].normalize())\n"
     ],
     "language": "python",
     "metadata": {},
     "outputs": [],
     "prompt_number": 2
    },
    {
     "cell_type": "code",
     "collapsed": false,
     "input": [
      "\n",
      "'''\n",
      "g = df_train.groupby('day')\n",
      "g['counts'].sum().plot()\n",
      "\n",
      "plt.figure();\n",
      "g = df_train.groupby('Saturday')\n",
      "g['counts'].sum().plot()\n",
      "\n",
      "plt.figure();\n",
      "g = df_train.groupby('Sunday')\n",
      "g['counts'].sum().plot()\n",
      "'''\n",
      "\n",
      "train_time = pd.TimeSeries(df_train['registered'].values,index=df_train.datetime.values)\n",
      "train_time = train_time.sort_index()\n",
      "train_H = train_time.resample('H',how='sum',fill_method='backfill')\n",
      "train_D = train_time.resample('D',how='sum',fill_method='backfill')\n",
      "train_M = train_time.resample('M',how='sum',fill_method='backfill')\n",
      "\n",
      "\n",
      "plt.figure();\n",
      "train_H[df_train.datetime.values].plot()\n",
      "#plt.plot(train_H)\n",
      "plt.xlabel(\"Period 2011-2012\");   #Period 2011-2012\n",
      "plt.ylabel(\"Count\")\n",
      "#plt.title(\"Average Daily Rental Counts by Month\");\n",
      "#plt.savefig(\"/home/aamnah/Google Drive/Project_BikeSharing/research-project-templete-amnah/Template/images/Average_Daily_Rental_registered_by_Hour.png\")\n",
      "plt.show()\n",
      "\n",
      "\n",
      "\n",
      "#df_train['counts'].boxplot(by='g')\n",
      " #bp = df_box.boxplot(by='g')\n",
      "#df_train['counts'].plot(kind='box')\n",
      "\n",
      "plt.figure();\n",
      "g = df_train.groupby('hour')\n",
      "#g['counts'].sum().plot()\n",
      "#g[df_train.datetime.values].plot()\n",
      "plt.plot(g['counts'].sum())\n",
      "plt.xlabel(\"Hours\");\n",
      "plt.ylabel(\"count\")\n",
      "#plt.title(\"Average Daily Rental Counts by Hours During Working Day\");\n",
      "#plt.savefig(\"/home/aamnah/Google Drive/Project_BikeSharing/research-project-templete-amnah/Template/images/hour-rental-counts1.png\")\n",
      "plt.show()\n",
      "\n",
      "\n",
      "\n",
      "\n",
      "plt.figure();\n",
      "plt.plot(df_train['counts'])\n",
      "#df_train.counts[df_train.datetime.values].plot()\n",
      "plt.xlabel(\"Period 2011-2012\");\n",
      "plt.ylabel(\"Count\")\n",
      "#plt.title(\"Rental Counts\");\n",
      "#plt.savefig(\"/home/aamnah/Google Drive/Project_BikeSharing/research-project-templete-amnah/Template/images/rental-counts1.png\")\n",
      "plt.show()\n",
      "\n",
      "\n",
      "plt.figure();\n",
      "plt.plot(df_train['casual'])\n",
      "plt.xlabel(\"Period 2011-2012\");\n",
      "plt.ylabel(\"Count\")\n",
      "#plt.title(\"Rental Counts\");\n",
      "#plt.savefig(\"/home/aamnah/Google Drive/Project_BikeSharing/research-project-templete-amnah/Template/images/CasualA.png\")\n",
      "plt.show()\n",
      "\n",
      "\n",
      "plt.figure();\n",
      "plt.plot(df_train['registered'])\n",
      "plt.xlabel(\"Period 2011-2012\");\n",
      "plt.ylabel(\"Count\")\n",
      "#plt.title(\"Rental Counts\");\n",
      "#plt.savefig(\"/home/aamnah/Google Drive/Project_BikeSharing/research-project-templete-amnah/Template/images/RegistA.png\")\n",
      "plt.show()\n",
      "\n",
      "\n",
      "\n",
      "plt.figure();\n",
      "D=df_train[0:23] \n",
      "plt.plot(D['counts'])\n",
      "plt.xlabel(\"Hours\");\n",
      "plt.ylabel(\"Count\")\n",
      "#plt.title(\"Average Daily Rental Counts by Hours During Non-Working Day\");\n",
      "#plt.savefig(\"/home/aamnah/Google Drive/Project_BikeSharing/research-project-templete-amnah/Template/images/Rental_Counts_for_One_Day.png\")\n",
      "plt.show()\n",
      "\n",
      "'''\n",
      "plt.figure();\n",
      "D=df_train[0:120] \n",
      "plt.plot(D['counts'])\n",
      "plt.savefig(\"monthly-count.png\")\n",
      "plt.xlabel(\"month\");\n",
      "plt.ylabel(\"count\")\n",
      "plt.title(\"Rental Counts for  Month\");\n",
      "plt.show()\n",
      "'''\n",
      "\n",
      "\n",
      "plt.figure();\n",
      "plt.plot(df_train.counts[0:100])\n",
      "plt.xlabel(\"Day\");\n",
      "plt.ylabel(\"Count\")\n",
      "#plt.title(\"Rental Counts for Four Days\");\n",
      "#plt.savefig(\"/home/aamnah/Google Drive/Project_BikeSharing/research-project-templete-amnah/Template/images/cout_for_2_days.png\")\n",
      "plt.show()\n",
      "\n",
      "\n",
      "plt.figure();\n",
      "plt.plot(df_train.counts,'b')\n",
      "axR = plt.plot(15*df_train['temp'],'r',)\n",
      "#plt.axis([0, 12000, 0, 1000])\n",
      "plt.xlabel(\"Period 2011-2012\");\n",
      "plt.ylabel(\"count\")\n",
      "plt.ylabel(\"temperature\")\n",
      "#plt.title(\"Rental Count and Temperature\");\n",
      "plt.legend([\"Count\",\"Temperature\"])\n",
      "#plt.savefig(\"/home/aamnah/Google Drive/Project_BikeSharing/research-project-templete-amnah/Template/images/count_plus_temp.png\")\n",
      "plt.show()\n",
      "\n",
      "\n",
      "plt.figure();\n",
      "#plt.plot(df_train.counts,'r')\n",
      "plt.plot(df_train['weather'])\n",
      "#plt.axis([0, 12000, 0, 1000])\n",
      "#plt.savefig(\"/home/aamnah/Google Drive/Project_BikeSharing/research-project-templete-amnah/Template/images/count_plus_weather.png\")\n",
      "plt.xlabel(\"Period 2011-2012\");\n",
      "#plt.ylabel(\"count\")\n",
      "plt.title(\"Rental Count and Weather\");\n",
      "plt.legend([\"Count\",\"Weather\"])\n",
      "plt.show()\n",
      "\n",
      "\n",
      "plt.figure();\n",
      "plt.plot(df_train['atemp'])\n",
      "#plt.savefig(\"/home/aamnah/Google Drive/Project_BikeSharing/research-project-templete-amnah/Template/images/temperature.png\")\n",
      "plt.xlabel(\"Period 2011-2012\");\n",
      "plt.ylabel(\"Temperature\")\n",
      "plt.title(\"Average Daily Rental Counts by Month\");\n",
      "plt.show()\n",
      "\n",
      "\n",
      "plt.figure();\n",
      "plt.plot(df_train['humidity'])\n",
      "#plt.savefig(\"monthly-rental-counts1.png\")\n",
      "plt.xlabel(\"Monthely period 2011-2012\");\n",
      "plt.ylabel(\"count\")\n",
      "plt.title(\"Average Daily Rental Counts by Month\");\n",
      "plt.show()\n",
      "\n",
      "\n",
      "plt.figure();\n",
      "plt.plot(df_train['windspeed'])\n",
      "plt.savefig(\"monthly-rental-counts1.png\")\n",
      "plt.xlabel(\"Monthely period 2011-2012\");\n",
      "plt.ylabel(\"count\")\n",
      "plt.title(\"Average Daily Rental Counts by Month\");\n",
      "plt.show()\n",
      "\n",
      "\n",
      "\n",
      "#for i in range(df_train.day.values=12,df_train.day.values=19):\n",
      "#    plt.plot(df_train.counts)\n",
      "#plt.figure();\n",
      "#df_train[df_train.datetime.values].plot()\n",
      "#plt.show()\n",
      "\n",
      "#M=pd.range(df_train.day=12,df_train.day=20)\n",
      "#plt.plot(M['counts'])\n",
      "\n",
      "#train$season <- factor(train$season, c(1,2,3,4), ordered=FALSE)\n",
      "#train$holiday <- factor(train$holiday, c(0,1), ordered=FALSE)\n",
      "#train$workingday <- factor(train$workingday, c(0,1), ordered=FALSE)\n",
      "#train$weather <- factor(train$weather, c(4,3,2,1), ordered=TRUE)\n",
      "#train$datetime <- as.POSIXct(train$datetime, format=\"%Y-%m-%d %H:%M:%S\")\n",
      "#train$date<-format(train$datetime,\"%d-%m-%d\")\n",
      "#train$time<-format(train$datetime,\"%H:%M:%S\")\n",
      "#train$hour <- hour(ymd_hms(train$datetime))\n",
      "#train$week <- week(ymd_hms(train$datetime))\n",
      "#train$month <- month(ymd_hms(train$datetime))\n",
      "\n",
      "#train$day <- wday(ymd_hms(train$datetime), label=TRUE)\n",
      "#train$weekday <- as.factor(weekdays(train$datetime))\n",
      "#train$weekday <- factor(train$weekday, levels = c(\"Monday\",\"Tuesday\",\"Wednesday\",\"Thursday\",\"Friday\",\n",
      " #                                           \"Saturday\",\"Sunday\")) #order factors\n",
      "\n",
      "    \n",
      "    #$$$$$$$$$$$$$$$$$$$$$$$$$$$$$$$$$$$$$$$$$$$$$$$$$$$$$$$$$$$$$$$$$$$$$$$$$$$$$\n",
      "#s = pd.Series(pd.Categorical([\"a\",\"b\",\"c\",\"a\"], categories=[\"c\",\"b\",\"a\"]))\n",
      "#tem = pd.Categorical([\"a\",\"b\",\"c\",\"a\"], categories=[1,2,3,4], ordered=False)\n",
      "#tem =df_train.sort('season')\n",
      "#tem = df_train.sort('season')\n",
      "     #$$$$$$$$$$$$$$$$$$$$$$$$$$$$$$$$$$$$$$$$$$$$$$$$$$$$$$$$$$$$$$$$$$$$$$$$$$$$$ \n",
      "\n",
      "## there appears to be a general increase in rentals over time, so days from start should be captured\n",
      "#data['dateDays'] = (data.date - data.date[0]).astype('timedelta64[D]')\n",
      "#\n",
      "## create a categorical feature for day of the week (0=Monday to 6=Sunday)\n",
      "#data['dayofweek'] = pd.DatetimeIndex(data.date).dayofweek\n",
      "#\n",
      "#byday = data.groupby('dayofweek')\n",
      "#byday['casual'].sum().reset_index()\n",
      "#byday['registered'].sum().reset_index()\n",
      "#\n",
      "## create binary features which show if day is Saturday/Sunday\n",
      "#data['Saturday']=0\n",
      "#data.Saturday[data.dayofweek==5]=1\n",
      "#\n",
      "#data['Sunday']=0\n",
      "#data.Sunday[data.dayofweek==6]=1\n",
      "#\n",
      "## remove old data features\n",
      "#dataRel = data.drop(['datetime', 'count','date','time','dayofweek'], axis=1)\n",
      "#\n",
      "## put continuous features into a dictionary\n",
      "#featureConCols = ['temp','atemp','humidity','windspeed','dateDays','hour']\n",
      "#dataFeatureCon = dataRel[featureConCols]\n",
      "#dataFeatureCon = dataFeatureCon.fillna( 'NA' ) #in case I missed any\n",
      "#X_dictCon = dataFeatureCon.T.to_dict().values() \n",
      "#\n",
      "## put categorical features into a dictionary\n",
      "#featureCatCols = ['season','holiday','workingday','weather','Saturday', 'Sunday']\n",
      "#dataFeatureCat = dataRel[featureCatCols]\n",
      "#dataFeatureCat = dataFeatureCat.fillna( 'NA' ) #in case I missed any\n",
      "#X_dictCat = dataFeatureCat.T.to_dict().values() \n",
      "#\n",
      "## vectorize features\n",
      "#vec = DictVectorizer(sparse = False)\n",
      "#X_vec_cat = vec.fit_transform(X_dictCat)\n",
      "#X_vec_con = vec.fit_transform(X_dictCon)\n"
     ],
     "language": "python",
     "metadata": {},
     "outputs": [
      {
       "metadata": {},
       "output_type": "display_data",
       "png": "[encoded data removed]",
       "text": [
        "<matplotlib.figure.Figure at 0x7fba5b536090>"
       ]
      },
      {
       "metadata": {},
       "output_type": "display_data",
       "png": "[encoded data removed]",
       "text": [
        "<matplotlib.figure.Figure at 0x7fba59b23190>"
       ]
      },
      {
       "metadata": {},
       "output_type": "display_data",
       "png": "[encoded data removed]",
       "text": [
        "<matplotlib.figure.Figure at 0x7fba5a1e0b10>"
       ]
      },
      {
       "metadata": {},
       "output_type": "display_data",
       "png": "[encoded data removed]",
       "text": [
        "<matplotlib.figure.Figure at 0x7fba59b3e210>"
       ]
      },
      {
       "metadata": {},
       "output_type": "display_data",
       "png": "[encoded data removed]",
       "text": [
        "<matplotlib.figure.Figure at 0x7fba5b349a10>"
       ]
      },
      {
       "metadata": {},
       "output_type": "display_data",
       "png": "[encoded data removed]",
       "text": [
        "<matplotlib.figure.Figure at 0x7fba5b2a47d0>"
       ]
      },
      {
       "metadata": {},
       "output_type": "display_data",
       "png": "[encoded data removed]",
       "text": [
        "<matplotlib.figure.Figure at 0x7fba5b1bf6d0>"
       ]
      },
      {
       "metadata": {},
       "output_type": "display_data",
       "png": "[encoded data removed]",
       "text": [
        "<matplotlib.figure.Figure at 0x7fba5b33d310>"
       ]
      },
      {
       "metadata": {},
       "output_type": "display_data",
       "png": "[encoded data removed]",
       "text": [
        "<matplotlib.figure.Figure at 0x7fba5926bed0>"
       ]
      },
      {
       "metadata": {},
       "output_type": "display_data",
       "png": "[encoded data removed]",
       "text": [
        "<matplotlib.figure.Figure at 0x7fba5b095850>"
       ]
      },
      {
       "metadata": {},
       "output_type": "display_data",
       "png": "[encoded data removed]",
       "text": [
        "<matplotlib.figure.Figure at 0x7fba59aa2690>"
       ]
      },
      {
       "metadata": {},
       "output_type": "display_data",
       "png": "[encoded data removed]",
       "text": [
        "<matplotlib.figure.Figure at 0x7fba59b0dc10>"
       ]
      }
     ],
     "prompt_number": 78
    },
    {
     "cell_type": "code",
     "collapsed": false,
     "input": [
      "from pylab import figure, show, legend, ylabel\n",
      " \n",
      "# create the general figure\n",
      "fig1 = figure()\n",
      " \n",
      "# and the first axes using subplot populated with data \n",
      "ax1 = fig1.add_subplot(111)\n",
      "line1, = ax1.plot(df_train.counts,'b', label=\"Count\")\n",
      "ylabel(\"count\")\n",
      "xlabel(\"Period 2011-2012\")\n",
      " \n",
      "# now, the second axes that shares the x-axis with the ax1\n",
      "ax2 = fig1.add_subplot(111, sharex=ax1, frameon=False)\n",
      "line2, = ax2.plot(df_train['temp'],'r',label=\"Temperature\")\n",
      "ax2.yaxis.tick_right()\n",
      "ax2.yaxis.set_label_position(\"right\")\n",
      "ylabel(\"temperature\")\n",
      " \n",
      "# for the legend, remember that we used two different axes so, we need \n",
      "# to build the legend manually\n",
      "legend([line1, line2], ['count', 'temperature'])\n",
      "#legend((line1, line2), (\"Count\",\"Temperature\"))\n",
      "#legend(handles=[line1, line2])\n",
      "#plt.savefig(\"/home/aamnah/Google Drive/Project_BikeSharing/research-project-templete-amnah/Template/images/count_plus_temp.png\")\n",
      "\n",
      "show()\n"
     ],
     "language": "python",
     "metadata": {},
     "outputs": [
      {
       "metadata": {},
       "output_type": "display_data",
       "png": "[encoded data removed]",
       "text": [
        "<matplotlib.figure.Figure at 0x7fba59bdbc90>"
       ]
      }
     ],
     "prompt_number": 79
    },
    {
     "cell_type": "code",
     "collapsed": false,
     "input": [
      "'''plt.figure();\n",
      "#plt.plot(df_train['counts'])\n",
      "plt.xlabel(\"Period 2011-2012\");\n",
      "plt.ylabel(\"Count\")\n",
      "#plt.title(\"Rental Counts\");\n",
      "plt.savefig(\"/home/aamnah/Google Drive/Project_BikeSharing/research-project-templete-amnah/Template/images/rental_count_actual.png\")\n",
      "plt.show()'''\n",
      "\n",
      "train_time = pd.TimeSeries(df_train['registered'].values,index=df_train.datetime.values)\n",
      "train_time = train_time.sort_index()\n",
      "train_H = train_time.resample('H',how='sum',fill_method='backfill')\n",
      "\n",
      "plt.figure();\n",
      "#train_H[df_train.datetime.values].plot()\n",
      "plt.plot(train_H)\n",
      "plt.xlabel(\"Period 2011-2012\");   #Period 2011-2012\n",
      "plt.ylabel(\"Count\")\n",
      "#plt.title(\"Average Daily Rental Counts by Month\");\n",
      "#plt.savefig(\"/home/aamnah/Google Drive/Project_BikeSharing/research-project-templete-amnah/Template/images/RegistA.png\")\n",
      "plt.show()\n"
     ],
     "language": "python",
     "metadata": {},
     "outputs": [
      {
       "metadata": {},
       "output_type": "display_data",
       "png": "[encoded data removed]",
       "text": [
        "<matplotlib.figure.Figure at 0x7fba5e354750>"
       ]
      }
     ],
     "prompt_number": 80
    },
    {
     "cell_type": "code",
     "collapsed": false,
     "input": [
      "'''plt.figure();\n",
      "#plt.plot(df_train['counts'])\n",
      "plt.xlabel(\"Period 2011-2012\");\n",
      "plt.ylabel(\"Count\")\n",
      "#plt.title(\"Rental Counts\");\n",
      "plt.savefig(\"/home/aamnah/Google Drive/Project_BikeSharing/research-project-templete-amnah/Template/images/rental_count_actual.png\")\n",
      "plt.show()'''\n",
      "\n",
      "train_time = pd.TimeSeries(df_train['casual'].values,index=df_train.datetime.values)\n",
      "train_time = train_time.sort_index()\n",
      "train_H = train_time.resample('H',how='sum',fill_method='backfill')\n",
      "\n",
      "plt.figure();\n",
      "#train_H[df_train.datetime.values].plot()\n",
      "plt.plot(train_H)\n",
      "plt.xlabel(\"Period 2011-2012\");   #Period 2011-2012\n",
      "plt.ylabel(\"Count\")\n",
      "#plt.title(\"Average Daily Rental Counts by Month\");\n",
      "#plt.savefig(\"/home/aamnah/Google Drive/Project_BikeSharing/research-project-templete-amnah/Template/images/CasualA.png\")\n",
      "plt.show()\n"
     ],
     "language": "python",
     "metadata": {},
     "outputs": [
      {
       "metadata": {},
       "output_type": "display_data",
       "png": "[encoded data removed]",
       "text": [
        "<matplotlib.figure.Figure at 0x7fba5b5d1dd0>"
       ]
      }
     ],
     "prompt_number": 81
    },
    {
     "cell_type": "code",
     "collapsed": false,
     "input": [
      "df_train.head(1)\n",
      "#Since I got all the information from datetime column, now I will delete it. I will delete casual and registered customer columns as well, to make it more simpler and match test data file.\n",
      "df_train = df_train.drop(['datetime','counts'], axis = 1)\n",
      "df_train.head(1)\n",
      "#Ok, good. Let's look at the shape of df_train. \n",
      "df_train.shape\n",
      "#I decided to split our features into two: 1.df_train_target - it is our target. This will contain 'count' column from df_train. \n",
      "#2.df_train_data - this will be our features. All of thte features (of course except 'count') are in here. I also want to use pd.DataFrame.values, which will give us NumPy representation which Scikit-learn can work with. \n",
      "#casual\n",
      "#the evaluation metric is the RMSE in the log domain,\n",
      "#so we should transform the target columns into log domain as well.\n",
      "#for col in ['casual', 'registered']:\n",
      "#     df_train['log10-' + col] = df_train[col].apply(lambda x: np.log1p(x))\n",
      "\n",
      "df_train_target = df_train['casual'].values\n",
      "df_train_data = df_train.drop(['casual','registered'],axis = 1).values\n",
      "print 'df_train_data shape is ', df_train_data.shape\n",
      "print 'df_train_target shape is ', df_train_target.shape\n",
      "#registered\n",
      "df_train_target1 = df_train['registered'].values\n",
      "df_train_data1 = df_train.drop(['registered','casual'],axis = 1).values\n",
      "print 'df_train_data shape is ', df_train_data1.shape\n",
      "print 'df_train_target shape is ', df_train_target1.shape"
     ],
     "language": "python",
     "metadata": {},
     "outputs": [
      {
       "output_type": "stream",
       "stream": "stdout",
       "text": [
        "df_train_data shape is  (10886, 12)\n",
        "df_train_target shape is  (10886,)\n",
        "df_train_data shape is  (10886, 12)\n",
        "df_train_target shape is  (10886,)\n"
       ]
      }
     ],
     "prompt_number": 63
    },
    {
     "cell_type": "code",
     "collapsed": false,
     "input": [
      "df_train.head(1)"
     ],
     "language": "python",
     "metadata": {},
     "outputs": [
      {
       "html": [
        "<div style=\"max-height:1000px;max-width:1500px;overflow:auto;\">\n",
        "<table border=\"1\" class=\"dataframe\">\n",
        "  <thead>\n",
        "    <tr style=\"text-align: right;\">\n",
        "      <th></th>\n",
        "      <th>season</th>\n",
        "      <th>holiday</th>\n",
        "      <th>workingday</th>\n",
        "      <th>weather</th>\n",
        "      <th>temp</th>\n",
        "      <th>atemp</th>\n",
        "      <th>humidity</th>\n",
        "      <th>windspeed</th>\n",
        "      <th>casual</th>\n",
        "      <th>registered</th>\n",
        "      <th>month</th>\n",
        "      <th>day</th>\n",
        "      <th>hour</th>\n",
        "      <th>year</th>\n",
        "    </tr>\n",
        "  </thead>\n",
        "  <tbody>\n",
        "    <tr>\n",
        "      <th>0</th>\n",
        "      <td> 1</td>\n",
        "      <td> 0</td>\n",
        "      <td> 0</td>\n",
        "      <td> 1</td>\n",
        "      <td> 9.84</td>\n",
        "      <td> 14.395</td>\n",
        "      <td> 81</td>\n",
        "      <td> 0</td>\n",
        "      <td> 3</td>\n",
        "      <td> 13</td>\n",
        "      <td> 1</td>\n",
        "      <td> 5</td>\n",
        "      <td> 0</td>\n",
        "      <td> 2011</td>\n",
        "    </tr>\n",
        "  </tbody>\n",
        "</table>\n",
        "<p>1 rows \u00d7 14 columns</p>\n",
        "</div>"
       ],
       "metadata": {},
       "output_type": "pyout",
       "prompt_number": 64,
       "text": [
        "   season  holiday  workingday  weather  temp   atemp  humidity  windspeed  \\\n",
        "0       1        0           0        1  9.84  14.395        81          0   \n",
        "\n",
        "   casual  registered  month  day  hour  year  \n",
        "0       3          13      1    5     0  2011  \n",
        "\n",
        "[1 rows x 14 columns]"
       ]
      }
     ],
     "prompt_number": 64
    },
    {
     "cell_type": "code",
     "collapsed": false,
     "input": [
      "df_test.head(1)"
     ],
     "language": "python",
     "metadata": {},
     "outputs": [
      {
       "html": [
        "<div style=\"max-height:1000px;max-width:1500px;overflow:auto;\">\n",
        "<table border=\"1\" class=\"dataframe\">\n",
        "  <thead>\n",
        "    <tr style=\"text-align: right;\">\n",
        "      <th></th>\n",
        "      <th>datetime</th>\n",
        "      <th>season</th>\n",
        "      <th>holiday</th>\n",
        "      <th>workingday</th>\n",
        "      <th>weather</th>\n",
        "      <th>temp</th>\n",
        "      <th>atemp</th>\n",
        "      <th>humidity</th>\n",
        "      <th>windspeed</th>\n",
        "    </tr>\n",
        "  </thead>\n",
        "  <tbody>\n",
        "    <tr>\n",
        "      <th>0</th>\n",
        "      <td>2011-01-20</td>\n",
        "      <td> 1</td>\n",
        "      <td> 0</td>\n",
        "      <td> 1</td>\n",
        "      <td> 1</td>\n",
        "      <td> 10.66</td>\n",
        "      <td> 11.365</td>\n",
        "      <td> 56</td>\n",
        "      <td> 26.0027</td>\n",
        "    </tr>\n",
        "  </tbody>\n",
        "</table>\n",
        "<p>1 rows \u00d7 9 columns</p>\n",
        "</div>"
       ],
       "metadata": {},
       "output_type": "pyout",
       "prompt_number": 65,
       "text": [
        "    datetime  season  holiday  workingday  weather   temp   atemp  humidity  \\\n",
        "0 2011-01-20       1        0           1        1  10.66  11.365        56   \n",
        "\n",
        "   windspeed  \n",
        "0    26.0027  \n",
        "\n",
        "[1 rows x 9 columns]"
       ]
      }
     ],
     "prompt_number": 65
    },
    {
     "cell_type": "code",
     "collapsed": false,
     "input": [
      "#import pandas as pd                       #4 trys\n",
      "#import numpy as np\n",
      "#import datetime\n",
      "#import csv as csv\n",
      "#import matplotlib.pyplot as plt\n",
      "#from sklearn import datasets, linear_model\n",
      "#from sklearn.preprocessing import OneHotEncoder\n",
      "#from sklearn.ensemble import RandomForestRegressor\n",
      "#from sklearn.ensemble import BaggingRegressor\n",
      "#from sklearn import linear_model\n",
      "#from sklearn import cross_validation\n",
      "#from sklearn import svm\n",
      "#from sklearn.learning_curve import learning_curve\n",
      "#from sklearn.grid_search import GridSearchCV\n",
      "#from sklearn.metrics import explained_variance_score"
     ],
     "language": "python",
     "metadata": {},
     "outputs": []
    },
    {
     "cell_type": "code",
     "collapsed": false,
     "input": [
      "#Machine Learning Algorithm\n",
      "#In this section I will apply some Machine Learning algorithms to our data. \n",
      "#I will also show how to use Grid Search and Cross Validation to improve and find best parameters to the algorithms. \n",
      "from sklearn import linear_model\n",
      "from sklearn import cross_validation\n",
      "from sklearn import svm\n",
      "from sklearn.ensemble import RandomForestRegressor,GradientBoostingRegressor,BaggingRegressor,RandomForestClassifier \n",
      "from sklearn.learning_curve import learning_curve\n",
      "from sklearn.grid_search import GridSearchCV\n",
      "from sklearn.metrics import explained_variance_score\n",
      "from sklearn.tree import DecisionTreeRegressor\n",
      "from sklearn.ensemble import AdaBoostRegressor\n",
      "\n"
     ],
     "language": "python",
     "metadata": {},
     "outputs": [],
     "prompt_number": 5
    },
    {
     "cell_type": "code",
     "collapsed": false,
     "input": [
      "#Here I will use cross-validation, in particular Shuffle Split - random permutation cross-validation that will \n",
      "#give us train and test sets. The test set will be 20% of the original set. I will try Suport Vector Regression,\n",
      "#Ridge Regression and Random Forest Regressor. Run each model three times to see which one gives me the best result. \n",
      "\n",
      "#cv = cross_validation.ShuffleSplit(len(df_train_data), n_iter=3, test_size=0.2,random_state=0)\n",
      "cv = cross_validation.KFold( len(df_train_data), n_folds=10, shuffle=False, random_state=None)   #very bad result\n",
      "\n",
      "\n",
      "print \"LinearRegression\"    \n",
      "for train, test in cv:    \n",
      "   svc = linear_model.LinearRegression().fit(df_train_data[train], df_train_target[train])\n",
      "   svc1 = linear_model.LinearRegression().fit(df_train_data1[train], df_train_target1[train])\n",
      "   print(\"train score: {0:.3f}, test score: {1:.3f}\\n\".format(\n",
      "       svc.score(df_train_data[train], df_train_target[train]), svc.score(df_train_data[test], df_train_target[test])))\n",
      "   print(\"train score SECOND: {0:.3f}, test score: {1:.3f}\\n\".format(\n",
      "       svc1.score(df_train_data1[train], df_train_target1[train]), svc.score(df_train_data1[test], df_train_target1[test])))"
     ],
     "language": "python",
     "metadata": {},
     "outputs": [
      {
       "output_type": "stream",
       "stream": "stdout",
       "text": [
        "LinearRegression\n",
        "train score: 0.476, test score: -4.711\n",
        "\n",
        "train score SECOND: 0.314, test score: -1.165\n",
        "\n",
        "train score: 0.478, test score: 0.308\n",
        "\n",
        "train score SECOND: 0.330, test score: -0.538\n"
       ]
      },
      {
       "output_type": "stream",
       "stream": "stdout",
       "text": [
        "\n",
        "train score: 0.468, test score: 0.439\n",
        "\n",
        "train score SECOND: 0.337, test score: -0.451\n",
        "\n",
        "train score: 0.468, test score: 0.493\n",
        "\n",
        "train score SECOND: 0.334, test score: -0.555\n",
        "\n",
        "train score: 0.471, test score: 0.298\n"
       ]
      },
      {
       "output_type": "stream",
       "stream": "stdout",
       "text": [
        "\n",
        "train score SECOND: 0.336, test score: -0.876\n",
        "\n",
        "train score: 0.477, test score: -0.682\n",
        "\n",
        "train score SECOND: 0.341, test score: -0.675\n",
        "\n",
        "train score: 0.483, test score: 0.349\n",
        "\n",
        "train score SECOND: 0.339, test score: -0.732\n",
        "\n",
        "train score: 0.464, test score: 0.392\n"
       ]
      },
      {
       "output_type": "stream",
       "stream": "stdout",
       "text": [
        "\n",
        "train score SECOND: 0.332, test score: -0.609\n",
        "\n",
        "train score: 0.462, test score: 0.428\n",
        "\n",
        "train score SECOND: 0.330, test score: -0.722\n",
        "\n",
        "train score: 0.473, test score: 0.444\n",
        "\n",
        "train score SECOND: 0.341, test score: -0.968\n"
       ]
      },
      {
       "output_type": "stream",
       "stream": "stdout",
       "text": [
        "\n"
       ]
      }
     ],
     "prompt_number": 83
    },
    {
     "cell_type": "code",
     "collapsed": false,
     "input": [
      "cv = cross_validation.KFold( len(df_train_data), n_folds=10, shuffle=False, random_state=None) \n",
      "\n",
      "\n",
      "print \"Ridge\"    \n",
      "for train, test in cv:    \n",
      "    svc = linear_model.Ridge().fit(df_train_data[train], df_train_target[train])\n",
      "    svc1 = linear_model.Ridge().fit(df_train_data1[train], df_train_target1[train])\n",
      "    print(\"train score: {0:.3f}, test score: {1:.3f}\\n\".format(\n",
      "        svc.score(df_train_data[train], df_train_target[train]), svc.score(df_train_data[test], df_train_target[test])))\n",
      "    print(\"train score SECOND: {0:.3f}, test score: {1:.3f}\\n\".format(\n",
      "        svc1.score(df_train_data1[train], df_train_target1[train]), svc.score(df_train_data1[test], df_train_target1[test])))\n",
      "    \n"
     ],
     "language": "python",
     "metadata": {},
     "outputs": [
      {
       "output_type": "stream",
       "stream": "stdout",
       "text": [
        "Ridge\n",
        "train score: 0.476, test score: -4.709\n",
        "\n",
        "train score SECOND: 0.314, test score: -1.165\n",
        "\n",
        "train score: 0.478, test score: 0.308\n",
        "\n",
        "train score SECOND: 0.330, test score: -0.538\n",
        "\n",
        "train score: 0.468, test score: 0.439\n",
        "\n",
        "train score SECOND: 0.337, test score: -0.451\n",
        "\n",
        "train score: 0.468, test score: 0.493\n"
       ]
      },
      {
       "output_type": "stream",
       "stream": "stdout",
       "text": [
        "\n",
        "train score SECOND: 0.334, test score: -0.555\n",
        "\n",
        "train score: 0.471, test score: 0.298\n",
        "\n",
        "train score SECOND: 0.336, test score: -0.876\n",
        "\n",
        "train score: 0.477, test score: -0.681\n",
        "\n",
        "train score SECOND: 0.341, test score: -0.675\n",
        "\n",
        "train score: 0.483, test score: 0.349\n",
        "\n",
        "train score SECOND: 0.339, test score: -0.732\n",
        "\n",
        "train score: 0.464, test score: 0.392\n"
       ]
      },
      {
       "output_type": "stream",
       "stream": "stdout",
       "text": [
        "\n",
        "train score SECOND: 0.332, test score: -0.609\n",
        "\n",
        "train score: 0.462, test score: 0.428\n",
        "\n",
        "train score SECOND: 0.330, test score: -0.722\n",
        "\n",
        "train score: 0.473, test score: 0.444\n",
        "\n",
        "train score SECOND: 0.341, test score: -0.968\n",
        "\n"
       ]
      }
     ],
     "prompt_number": 84
    },
    {
     "cell_type": "code",
     "collapsed": false,
     "input": [
      "cv = cross_validation.KFold( len(df_train_data), n_folds=10, shuffle=False, random_state=None) \n",
      "\n",
      "\n",
      "print \"Ridge\"    \n",
      "for train, test in cv:    \n",
      "    svc = AdaBoostRegressor(DecisionTreeRegressor(max_depth=4), n_estimators=100).fit(df_train_data[train], df_train_target[train])\n",
      "    svc1 = AdaBoostRegressor(DecisionTreeRegressor(max_depth=4), n_estimators=100).fit(df_train_data1[train], df_train_target1[train])\n",
      "    print(\"train score: {0:.3f}, test score: {1:.3f}\\n\".format(\n",
      "        svc.score(df_train_data[train], df_train_target[train]), svc.score(df_train_data[test], df_train_target[test])))\n",
      "    print(\"train score SECOND: {0:.3f}, test score: {1:.3f}\\n\".format(\n",
      "        svc1.score(df_train_data1[train], df_train_target1[train]), svc.score(df_train_data1[test], df_train_target1[test])))\n",
      "    \n"
     ],
     "language": "python",
     "metadata": {},
     "outputs": [
      {
       "output_type": "stream",
       "stream": "stdout",
       "text": [
        "Ridge\n",
        "train score: 0.649, test score: -8.473\n"
       ]
      },
      {
       "output_type": "stream",
       "stream": "stdout",
       "text": [
        "\n",
        "train score SECOND: 0.812, test score: -0.079\n"
       ]
      },
      {
       "output_type": "stream",
       "stream": "stdout",
       "text": [
        "\n",
        "train score: 0.647, test score: 0.250\n"
       ]
      },
      {
       "output_type": "stream",
       "stream": "stdout",
       "text": [
        "\n",
        "train score SECOND: 0.798, test score: -0.059\n"
       ]
      },
      {
       "output_type": "stream",
       "stream": "stdout",
       "text": [
        "\n",
        "train score: 0.643, test score: 0.486\n"
       ]
      },
      {
       "output_type": "stream",
       "stream": "stdout",
       "text": [
        "\n",
        "train score SECOND: 0.805, test score: -0.263\n"
       ]
      },
      {
       "output_type": "stream",
       "stream": "stdout",
       "text": [
        "\n",
        "train score: 0.658, test score: 0.658\n"
       ]
      },
      {
       "output_type": "stream",
       "stream": "stdout",
       "text": [
        "\n",
        "train score SECOND: 0.811, test score: -0.279\n"
       ]
      },
      {
       "output_type": "stream",
       "stream": "stdout",
       "text": [
        "\n",
        "train score: 0.616, test score: -0.418\n"
       ]
      },
      {
       "output_type": "stream",
       "stream": "stdout",
       "text": [
        "\n",
        "train score SECOND: 0.810, test score: -0.319\n"
       ]
      },
      {
       "output_type": "stream",
       "stream": "stdout",
       "text": [
        "\n",
        "train score: 0.690, test score: -3.075\n"
       ]
      },
      {
       "output_type": "stream",
       "stream": "stdout",
       "text": [
        "\n",
        "train score SECOND: 0.818, test score: -0.267\n"
       ]
      },
      {
       "output_type": "stream",
       "stream": "stdout",
       "text": [
        "\n",
        "train score: 0.667, test score: 0.677\n"
       ]
      },
      {
       "output_type": "stream",
       "stream": "stdout",
       "text": [
        "\n",
        "train score SECOND: 0.800, test score: -0.493\n"
       ]
      },
      {
       "output_type": "stream",
       "stream": "stdout",
       "text": [
        "\n",
        "train score: 0.599, test score: 0.636\n"
       ]
      },
      {
       "output_type": "stream",
       "stream": "stdout",
       "text": [
        "\n",
        "train score SECOND: 0.777, test score: -0.411\n"
       ]
      },
      {
       "output_type": "stream",
       "stream": "stdout",
       "text": [
        "\n",
        "train score: 0.635, test score: 0.745\n"
       ]
      },
      {
       "output_type": "stream",
       "stream": "stdout",
       "text": [
        "\n",
        "train score SECOND: 0.779, test score: -0.502\n"
       ]
      },
      {
       "output_type": "stream",
       "stream": "stdout",
       "text": [
        "\n",
        "train score: 0.656, test score: 0.445\n"
       ]
      },
      {
       "output_type": "stream",
       "stream": "stdout",
       "text": [
        "\n",
        "train score SECOND: 0.775, test score: -0.595\n"
       ]
      },
      {
       "output_type": "stream",
       "stream": "stdout",
       "text": [
        "\n"
       ]
      }
     ],
     "prompt_number": 85
    },
    {
     "cell_type": "code",
     "collapsed": false,
     "input": [
      "cv = cross_validation.KFold( len(df_train_data), n_folds=10, shuffle=False, random_state=None) \n",
      "\n",
      "\n",
      "print \"Ridge\"    \n",
      "for train, test in cv:    \n",
      "    svc = GradientBoostingRegressor(n_estimators = 100).fit(df_train_data[train], df_train_target[train])\n",
      "    svc1 = GradientBoostingRegressor(n_estimators = 100).fit(df_train_data1[train], df_train_target1[train])\n",
      "    print(\"train score: {0:.3f}, test score: {1:.3f}\\n\".format(\n",
      "        svc.score(df_train_data[train], df_train_target[train]), svc.score(df_train_data[test], df_train_target[test])))\n",
      "    print(\"train score SECOND: {0:.3f}, test score: {1:.3f}\\n\".format(\n",
      "        svc1.score(df_train_data1[train], df_train_target1[train]), svc.score(df_train_data1[test], df_train_target1[test])))\n",
      "    \n"
     ],
     "language": "python",
     "metadata": {},
     "outputs": [
      {
       "output_type": "stream",
       "stream": "stdout",
       "text": [
        "Ridge\n",
        "train score: 0.852, test score: -1.248\n"
       ]
      },
      {
       "output_type": "stream",
       "stream": "stdout",
       "text": [
        "\n",
        "train score SECOND: 0.866, test score: -0.679\n",
        "\n",
        "train score: 0.856, test score: 0.760\n"
       ]
      },
      {
       "output_type": "stream",
       "stream": "stdout",
       "text": [
        "\n",
        "train score SECOND: 0.875, test score: -0.350\n",
        "\n",
        "train score: 0.851, test score: 0.803\n"
       ]
      },
      {
       "output_type": "stream",
       "stream": "stdout",
       "text": [
        "\n",
        "train score SECOND: 0.873, test score: -0.504\n",
        "\n",
        "train score: 0.851, test score: 0.840\n"
       ]
      },
      {
       "output_type": "stream",
       "stream": "stdout",
       "text": [
        "\n",
        "train score SECOND: 0.879, test score: -0.464\n",
        "\n",
        "train score: 0.848, test score: 0.756\n"
       ]
      },
      {
       "output_type": "stream",
       "stream": "stdout",
       "text": [
        "\n",
        "train score SECOND: 0.875, test score: -0.691\n",
        "\n",
        "train score: 0.854, test score: -0.526\n"
       ]
      },
      {
       "output_type": "stream",
       "stream": "stdout",
       "text": [
        "\n",
        "train score SECOND: 0.875, test score: -0.483\n",
        "\n",
        "train score: 0.855, test score: 0.672\n"
       ]
      },
      {
       "output_type": "stream",
       "stream": "stdout",
       "text": [
        "\n",
        "train score SECOND: 0.876, test score: -0.600\n",
        "\n",
        "train score: 0.847, test score: 0.795\n"
       ]
      },
      {
       "output_type": "stream",
       "stream": "stdout",
       "text": [
        "\n",
        "train score SECOND: 0.866, test score: -0.555\n",
        "\n",
        "train score: 0.842, test score: 0.819\n"
       ]
      },
      {
       "output_type": "stream",
       "stream": "stdout",
       "text": [
        "\n",
        "train score SECOND: 0.876, test score: -0.635\n",
        "\n",
        "train score: 0.851, test score: 0.779\n"
       ]
      },
      {
       "output_type": "stream",
       "stream": "stdout",
       "text": [
        "\n",
        "train score SECOND: 0.869, test score: -0.885\n",
        "\n"
       ]
      }
     ],
     "prompt_number": 86
    },
    {
     "cell_type": "code",
     "collapsed": false,
     "input": [
      "cv = cross_validation.KFold( len(df_train_data), n_folds=10, shuffle=False, random_state=None) \n",
      "\n",
      "print \"Random Forest(n_estimators = 100)\"    \n",
      "for train, test in cv:    \n",
      "    svc = BaggingRegressor(n_estimators = 100).fit(df_train_data[train], df_train_target[train])\n",
      "    svc1 = RandomForestRegressor(n_estimators = 100).fit(df_train_data1[train], df_train_target1[train])\n",
      "    print(\"train score: {0:.3f}, test score: {1:.3f}\\n\".format(\n",
      "        svc.score(df_train_data[train], df_train_target[train]), svc.score(df_train_data[test], df_train_target[test])))\n",
      "    print(\"train score SECOND: {0:.3f}, test score: {1:.3f}\\n\".format(\n",
      "        svc1.score(df_train_data1[train], df_train_target1[train]), svc.score(df_train_data1[test], df_train_target1[test])))\n",
      "\n",
      "\n",
      "\n"
     ],
     "language": "python",
     "metadata": {},
     "outputs": [
      {
       "output_type": "stream",
       "stream": "stdout",
       "text": [
        "Random Forest(n_estimators = 100)\n",
        "train score: 0.988, test score: -1.066\n"
       ]
      },
      {
       "output_type": "stream",
       "stream": "stdout",
       "text": [
        "\n",
        "train score SECOND: 0.993, test score: -0.609\n"
       ]
      },
      {
       "output_type": "stream",
       "stream": "stdout",
       "text": [
        "\n",
        "train score: 0.989, test score: 0.724\n"
       ]
      },
      {
       "output_type": "stream",
       "stream": "stdout",
       "text": [
        "\n",
        "train score SECOND: 0.993, test score: -0.290\n"
       ]
      },
      {
       "output_type": "stream",
       "stream": "stdout",
       "text": [
        "\n",
        "train score: 0.989, test score: 0.843\n"
       ]
      },
      {
       "output_type": "stream",
       "stream": "stdout",
       "text": [
        "\n",
        "train score SECOND: 0.993, test score: -0.488\n"
       ]
      },
      {
       "output_type": "stream",
       "stream": "stdout",
       "text": [
        "\n",
        "train score: 0.989, test score: 0.787\n"
       ]
      },
      {
       "output_type": "stream",
       "stream": "stdout",
       "text": [
        "\n",
        "train score SECOND: 0.993, test score: -0.422\n"
       ]
      },
      {
       "output_type": "stream",
       "stream": "stdout",
       "text": [
        "\n",
        "train score: 0.989, test score: 0.756\n"
       ]
      },
      {
       "output_type": "stream",
       "stream": "stdout",
       "text": [
        "\n",
        "train score SECOND: 0.994, test score: -0.665\n"
       ]
      },
      {
       "output_type": "stream",
       "stream": "stdout",
       "text": [
        "\n",
        "train score: 0.989, test score: -0.038\n"
       ]
      },
      {
       "output_type": "stream",
       "stream": "stdout",
       "text": [
        "\n",
        "train score SECOND: 0.993, test score: -0.557\n"
       ]
      },
      {
       "output_type": "stream",
       "stream": "stdout",
       "text": [
        "\n",
        "train score: 0.989, test score: 0.693\n"
       ]
      },
      {
       "output_type": "stream",
       "stream": "stdout",
       "text": [
        "\n",
        "train score SECOND: 0.994, test score: -0.611\n"
       ]
      },
      {
       "output_type": "stream",
       "stream": "stdout",
       "text": [
        "\n",
        "train score: 0.988, test score: 0.833\n"
       ]
      },
      {
       "output_type": "stream",
       "stream": "stdout",
       "text": [
        "\n",
        "train score SECOND: 0.993, test score: -0.517\n"
       ]
      },
      {
       "output_type": "stream",
       "stream": "stdout",
       "text": [
        "\n",
        "train score: 0.988, test score: 0.851\n"
       ]
      },
      {
       "output_type": "stream",
       "stream": "stdout",
       "text": [
        "\n",
        "train score SECOND: 0.993, test score: -0.593\n"
       ]
      },
      {
       "output_type": "stream",
       "stream": "stdout",
       "text": [
        "\n",
        "train score: 0.989, test score: 0.815\n"
       ]
      },
      {
       "output_type": "stream",
       "stream": "stdout",
       "text": [
        "\n",
        "train score SECOND: 0.993, test score: -0.901\n"
       ]
      },
      {
       "output_type": "stream",
       "stream": "stdout",
       "text": [
        "\n"
       ]
      }
     ],
     "prompt_number": 87
    },
    {
     "cell_type": "code",
     "collapsed": false,
     "input": [
      "cv = cross_validation.KFold( len(df_train_data), n_folds=10, shuffle=False, random_state=None) \n",
      "\n",
      "print \"Random Forest(n_estimators = 100)\"    \n",
      "for train, test in cv:    \n",
      "    svc = RandomForestRegressor(n_estimators = 100).fit(df_train_data[train], df_train_target[train])\n",
      "    svc12 = RandomForestRegressor(n_estimators = 100).fit(df_train_data1[train], df_train_target1[train])\n",
      "    print(\"train score: {0:.3f}, test score: {1:.3f}\\n\".format(\n",
      "        svc.score(df_train_data[train], df_train_target[train]), svc.score(df_train_data[test], df_train_target[test])))\n",
      "    print(\"train score SECOND: {0:.3f}, test score: {1:.3f}\\n\".format(\n",
      "        svc12.score(df_train_data1[train], df_train_target1[train]), svc12.score(df_train_data1[test], df_train_target1[test])))"
     ],
     "language": "python",
     "metadata": {},
     "outputs": [
      {
       "output_type": "stream",
       "stream": "stdout",
       "text": [
        "Random Forest(n_estimators = 100)\n",
        "train score: 0.988, test score: -1.190\n"
       ]
      },
      {
       "output_type": "stream",
       "stream": "stdout",
       "text": [
        "\n",
        "train score SECOND: 0.993, test score: 0.787\n"
       ]
      },
      {
       "output_type": "stream",
       "stream": "stdout",
       "text": [
        "\n",
        "train score: 0.989, test score: 0.706\n"
       ]
      },
      {
       "output_type": "stream",
       "stream": "stdout",
       "text": [
        "\n",
        "train score SECOND: 0.994, test score: 0.875\n"
       ]
      },
      {
       "output_type": "stream",
       "stream": "stdout",
       "text": [
        "\n",
        "train score: 0.989, test score: 0.845\n"
       ]
      },
      {
       "output_type": "stream",
       "stream": "stdout",
       "text": [
        "\n",
        "train score SECOND: 0.993, test score: 0.946\n"
       ]
      },
      {
       "output_type": "stream",
       "stream": "stdout",
       "text": [
        "\n",
        "train score: 0.989, test score: 0.779\n"
       ]
      },
      {
       "output_type": "stream",
       "stream": "stdout",
       "text": [
        "\n",
        "train score SECOND: 0.994, test score: 0.920\n"
       ]
      },
      {
       "output_type": "stream",
       "stream": "stdout",
       "text": [
        "\n",
        "train score: 0.989, test score: 0.765\n"
       ]
      },
      {
       "output_type": "stream",
       "stream": "stdout",
       "text": [
        "\n",
        "train score SECOND: 0.993, test score: 0.861\n"
       ]
      },
      {
       "output_type": "stream",
       "stream": "stdout",
       "text": [
        "\n",
        "train score: 0.989, test score: -0.039\n"
       ]
      },
      {
       "output_type": "stream",
       "stream": "stdout",
       "text": [
        "\n",
        "train score SECOND: 0.993, test score: 0.716\n"
       ]
      },
      {
       "output_type": "stream",
       "stream": "stdout",
       "text": [
        "\n",
        "train score: 0.989, test score: 0.681\n"
       ]
      },
      {
       "output_type": "stream",
       "stream": "stdout",
       "text": [
        "\n",
        "train score SECOND: 0.994, test score: 0.914\n"
       ]
      },
      {
       "output_type": "stream",
       "stream": "stdout",
       "text": [
        "\n",
        "train score: 0.988, test score: 0.836\n"
       ]
      },
      {
       "output_type": "stream",
       "stream": "stdout",
       "text": [
        "\n",
        "train score SECOND: 0.993, test score: 0.927\n"
       ]
      },
      {
       "output_type": "stream",
       "stream": "stdout",
       "text": [
        "\n",
        "train score: 0.988, test score: 0.851\n"
       ]
      },
      {
       "output_type": "stream",
       "stream": "stdout",
       "text": [
        "\n",
        "train score SECOND: 0.993, test score: 0.927\n"
       ]
      },
      {
       "output_type": "stream",
       "stream": "stdout",
       "text": [
        "\n",
        "train score: 0.989, test score: 0.824\n"
       ]
      },
      {
       "output_type": "stream",
       "stream": "stdout",
       "text": [
        "\n",
        "train score SECOND: 0.993, test score: 0.905\n"
       ]
      },
      {
       "output_type": "stream",
       "stream": "stdout",
       "text": [
        "\n"
       ]
      }
     ],
     "prompt_number": 93
    },
    {
     "cell_type": "code",
     "collapsed": false,
     "input": [
      "cv = cross_validation.KFold( len(df_train_data), n_folds=10, shuffle=False, random_state=None) \n",
      "\n",
      "print \"Gradient Boosting Regressor(n_estimators = 100)\"    \n",
      "for train, test in cv:    \n",
      "    svc = GradientBoostingRegressor(n_estimators = 100).fit(df_train_data[train], df_train_target[train])\n",
      "    svc1 = GradientBoostingRegressor(n_estimators = 100).fit(df_train_data1[train], df_train_target1[train])\n",
      "    print(\"train score: {0:.3f}, test score: {1:.3f}\\n\".format(\n",
      "        svc.score(df_train_data[train], df_train_target[train]), svc.score(df_train_data[test], df_train_target[test])))\n",
      "    print(\"train score SECOND: {0:.3f}, test score: {1:.3f}\\n\".format(\n",
      "        svc1.score(df_train_data1[train], df_train_target1[train]), svc.score(df_train_data1[test], df_train_target1[test])))"
     ],
     "language": "python",
     "metadata": {},
     "outputs": [
      {
       "output_type": "stream",
       "stream": "stdout",
       "text": [
        "Gradient Boosting Regressor(n_estimators = 100)\n",
        "train score: 0.852, test score: -1.248\n"
       ]
      },
      {
       "output_type": "stream",
       "stream": "stdout",
       "text": [
        "\n",
        "train score SECOND: 0.866, test score: -0.679\n",
        "\n",
        "train score: 0.856, test score: 0.760\n"
       ]
      },
      {
       "output_type": "stream",
       "stream": "stdout",
       "text": [
        "\n",
        "train score SECOND: 0.875, test score: -0.350\n",
        "\n",
        "train score: 0.851, test score: 0.803\n"
       ]
      },
      {
       "output_type": "stream",
       "stream": "stdout",
       "text": [
        "\n",
        "train score SECOND: 0.873, test score: -0.504\n",
        "\n",
        "train score: 0.851, test score: 0.840\n"
       ]
      },
      {
       "output_type": "stream",
       "stream": "stdout",
       "text": [
        "\n",
        "train score SECOND: 0.879, test score: -0.464\n",
        "\n",
        "train score: 0.848, test score: 0.756\n"
       ]
      },
      {
       "output_type": "stream",
       "stream": "stdout",
       "text": [
        "\n",
        "train score SECOND: 0.875, test score: -0.691\n",
        "\n",
        "train score: 0.854, test score: -0.526\n"
       ]
      },
      {
       "output_type": "stream",
       "stream": "stdout",
       "text": [
        "\n",
        "train score SECOND: 0.875, test score: -0.483\n",
        "\n",
        "train score: 0.855, test score: 0.669\n"
       ]
      },
      {
       "output_type": "stream",
       "stream": "stdout",
       "text": [
        "\n",
        "train score SECOND: 0.876, test score: -0.604\n",
        "\n",
        "train score: 0.847, test score: 0.795\n"
       ]
      },
      {
       "output_type": "stream",
       "stream": "stdout",
       "text": [
        "\n",
        "train score SECOND: 0.866, test score: -0.555\n",
        "\n",
        "train score: 0.842, test score: 0.820\n"
       ]
      },
      {
       "output_type": "stream",
       "stream": "stdout",
       "text": [
        "\n",
        "train score SECOND: 0.876, test score: -0.635\n",
        "\n",
        "train score: 0.851, test score: 0.779\n"
       ]
      },
      {
       "output_type": "stream",
       "stream": "stdout",
       "text": [
        "\n",
        "train score SECOND: 0.869, test score: -0.885\n",
        "\n"
       ]
      }
     ],
     "prompt_number": 89
    },
    {
     "cell_type": "code",
     "collapsed": false,
     "input": [
      "cv = cross_validation.KFold( len(df_train_data), n_folds=10, shuffle=False, random_state=None) \n",
      "\n",
      "print \"Bagging Regressor(n_estimators = 100)\"    \n",
      "for train, test in cv:    \n",
      "    svc = BaggingRegressor(n_estimators = 100).fit(df_train_data[train], df_train_target[train])\n",
      "    svc1 = BaggingRegressor(n_estimators = 100).fit(df_train_data1[train], df_train_target1[train])\n",
      "    print(\"train score: {0:.3f}, test score: {1:.3f}\\n\".format(\n",
      "        svc.score(df_train_data[train], df_train_target[train]), svc.score(df_train_data[test], df_train_target[test])))\n",
      "    print(\"train score: {0:.3f}, test score: {1:.3f}\\n\".format(\n",
      "        svc1.score(df_train_data1[train], df_train_target1[train]), svc.score(df_train_data1[test], df_train_target1[test])))"
     ],
     "language": "python",
     "metadata": {},
     "outputs": [
      {
       "output_type": "stream",
       "stream": "stdout",
       "text": [
        "Bagging Regressor(n_estimators = 100)\n",
        "train score: 0.988, test score: -1.053\n"
       ]
      },
      {
       "output_type": "stream",
       "stream": "stdout",
       "text": [
        "\n",
        "train score: 0.993, test score: -0.611\n"
       ]
      },
      {
       "output_type": "stream",
       "stream": "stdout",
       "text": [
        "\n",
        "train score: 0.989, test score: 0.706\n"
       ]
      },
      {
       "output_type": "stream",
       "stream": "stdout",
       "text": [
        "\n",
        "train score: 0.994, test score: -0.294\n"
       ]
      },
      {
       "output_type": "stream",
       "stream": "stdout",
       "text": [
        "\n",
        "train score: 0.989, test score: 0.841\n"
       ]
      },
      {
       "output_type": "stream",
       "stream": "stdout",
       "text": [
        "\n",
        "train score: 0.993, test score: -0.484\n"
       ]
      },
      {
       "output_type": "stream",
       "stream": "stdout",
       "text": [
        "\n",
        "train score: 0.989, test score: 0.795\n"
       ]
      },
      {
       "output_type": "stream",
       "stream": "stdout",
       "text": [
        "\n",
        "train score: 0.994, test score: -0.414\n"
       ]
      },
      {
       "output_type": "stream",
       "stream": "stdout",
       "text": [
        "\n",
        "train score: 0.989, test score: 0.767\n"
       ]
      },
      {
       "output_type": "stream",
       "stream": "stdout",
       "text": [
        "\n",
        "train score: 0.993, test score: -0.672\n"
       ]
      },
      {
       "output_type": "stream",
       "stream": "stdout",
       "text": [
        "\n",
        "train score: 0.989, test score: -0.077\n"
       ]
      },
      {
       "output_type": "stream",
       "stream": "stdout",
       "text": [
        "\n",
        "train score: 0.993, test score: -0.541\n"
       ]
      },
      {
       "output_type": "stream",
       "stream": "stdout",
       "text": [
        "\n",
        "train score: 0.989, test score: 0.671\n"
       ]
      },
      {
       "output_type": "stream",
       "stream": "stdout",
       "text": [
        "\n",
        "train score: 0.994, test score: -0.618\n"
       ]
      },
      {
       "output_type": "stream",
       "stream": "stdout",
       "text": [
        "\n",
        "train score: 0.988, test score: 0.845\n"
       ]
      },
      {
       "output_type": "stream",
       "stream": "stdout",
       "text": [
        "\n",
        "train score: 0.993, test score: -0.514\n"
       ]
      },
      {
       "output_type": "stream",
       "stream": "stdout",
       "text": [
        "\n",
        "train score: 0.988, test score: 0.847\n"
       ]
      },
      {
       "output_type": "stream",
       "stream": "stdout",
       "text": [
        "\n",
        "train score: 0.993, test score: -0.592\n"
       ]
      },
      {
       "output_type": "stream",
       "stream": "stdout",
       "text": [
        "\n",
        "train score: 0.989, test score: 0.813\n"
       ]
      },
      {
       "output_type": "stream",
       "stream": "stdout",
       "text": [
        "\n",
        "train score: 0.993, test score: -0.897\n"
       ]
      },
      {
       "output_type": "stream",
       "stream": "stdout",
       "text": [
        "\n"
       ]
      }
     ],
     "prompt_number": 90
    },
    {
     "cell_type": "code",
     "collapsed": false,
     "input": [
      "df_train = df_train.drop(['datetime'], axis = 1)"
     ],
     "language": "python",
     "metadata": {},
     "outputs": [],
     "prompt_number": 3
    },
    {
     "cell_type": "code",
     "collapsed": false,
     "input": [
      "'''import numpy as np\n",
      "import matplotlib.pyplot as plt\n",
      "\n",
      "from sklearn.datasets import make_classification\n",
      "from sklearn.ensemble import ExtraTreesClassifier\n",
      "\n",
      "\n",
      "\n",
      "#start with casual\n",
      "importances = svc.feature_importances_\n",
      "print importances \n",
      "\n",
      "std = np.std([tree.feature_importances_ for tree in svc.estimators_],\n",
      "             axis=0)\n",
      "indices = np.argsort(importances)[::-1]\n",
      "\n",
      "# Print the feature ranking\n",
      "print(\"Feature ranking:\")\n",
      "\n",
      "for f in range(10):\n",
      "    print(\"%d. feature %d (%f)\" % (f + 1, indices[f], importances[indices[f]]))\n",
      "\n",
      "# Plot the feature importances of the forest\n",
      "plt.figure()\n",
      "plt.title(\"Feature importances\")\n",
      "plt.bar(range(10), importances[indices],\n",
      "       color=\"r\", yerr=std[indices], align=\"center\")\n",
      "plt.xticks(range(10), indices)\n",
      "plt.xlim([-1, 10])\n",
      "plt.show()'''\n",
      "\n",
      "\n",
      "df_train_target11 = df_train['counts'].values\n",
      "df_train_data11 = df_train.drop(['casual','registered','counts'],axis = 1).values\n",
      "\n",
      "\n",
      "\n",
      "import numpy as np\n",
      "import matplotlib.pyplot as plt\n",
      "\n",
      "from sklearn.datasets import make_classification\n",
      "from sklearn.ensemble import ExtraTreesClassifier\n",
      "\n",
      "\n",
      "sv = RandomForestRegressor(n_estimators = 100).fit(df_train_data11, df_train_target11)\n",
      "\n",
      "#start with casual\n",
      "importances = sv.feature_importances_\n",
      "\n",
      "important_idx = np.where(importances)[0] \n",
      "\n",
      "\n",
      "important_features = features_list[important_idx]\n",
      "\n",
      "print importances \n",
      "print important_features\n",
      "\n",
      "\n",
      "std = np.std([tree.feature_importances_ for tree in sv.estimators_],\n",
      "             axis=0)\n",
      "indices = np.argsort(importances)[::-1]\n",
      "\n",
      "# Print the feature ranking\n",
      "print(\"Feature ranking:\")\n",
      "#for f in important_features:\n",
      "    #print(\"%d. feature %d (%f)\" % (f + 1, indices[f], importances[indices[f]]))\n",
      "#    print  f\n",
      "for f in range(10):\n",
      "    print(\"%d. feature %d (%f)\" % (f + 1, indices[f], importances[indices[f]]))\n",
      "    \n",
      " # Adapted from http://scikit-learn.org/stable/auto_examples/ensemble/plot_gradient_boosting_regression.html\n",
      "pos = np.arange(indices.shape[0]) + .5\n",
      "#plt.subplot(1, 2, 2)\n",
      "plt.barh(pos, importances[important_idx][indices[::-1]], align='center')\n",
      "plt.yticks(pos, important_features[indices[::-1]])\n",
      "plt.xlabel('Relative Importance')\n",
      "plt.title('Variable Importance')\n",
      "plt.draw()\n",
      "plt.savefig(\"/home/aamnah/Google Drive/Project_BikeSharing/research-project-templete-amnah/Template/images/feature.png\")\n",
      "plt.show()   "
     ],
     "language": "python",
     "metadata": {},
     "outputs": []
    },
    {
     "cell_type": "code",
     "collapsed": false,
     "input": [
      "#I will leave this task to you. Below is the implementation of the Grid Search. \n",
      "#The Grid Search is used for evaluating the best estimator performance score. \n",
      "#I am using train-test-split cross-validation which will give me random train and test subsets. \n",
      "#tuned_paramaters - that's where I set my estimators to be checked. grid_scores_ - returns: \n",
      "#* a dict of parameter settings (in our case tuned_parameters) * the mean score over the cross-validation \n",
      "#folds * the list of scores for each fold best_estimator_ - returns the best estimator chosen by the search \n",
      "\n",
      "\n",
      "#start with casual\n",
      "X = df_train_data\n",
      "y = df_train_target   #split for 20% test set, 80% train set\n",
      "\n",
      "X_train, X_test, y_train, y_test = cross_validation.train_test_split(\n",
      "    X, y, test_size=0.2, random_state=0)\n",
      "\n",
      "tuned_parameters = [{'n_estimators':[10,100,500]}]   \n",
      "    \n",
      "scores = ['r2']\n",
      "\n",
      "for score in scores:\n",
      "    \n",
      "    print score\n",
      "    \n",
      "    clf = GridSearchCV(RandomForestRegressor(), tuned_parameters, cv=5, scoring=score)\n",
      "    clf.fit(X_train, y_train)\n",
      "\n",
      "    print(\"Best parameters set found on development set:\")\n",
      "    print \"\"\n",
      "    #best_estimator_ returns the best estimator chosen by the search\n",
      "    print(clf.best_estimator_)\n",
      "    print \"\"\n",
      "    print(\"Grid scores on development set:\")\n",
      "    print \"\"\n",
      "    #grid_scores_ returns:\n",
      "    #    * a dict of parameter settings\n",
      "    #    * the mean score over the cross-validation folds \n",
      "    #    * the list of scores for each fold\n",
      "    for params, mean_score, scores in clf.grid_scores_:\n",
      "        print(\"%0.3f (+/-%0.03f) for %r\"\n",
      "              % (mean_score, scores.std() / 2, params))\n",
      "    print \"\""
     ],
     "language": "python",
     "metadata": {},
     "outputs": []
    },
    {
     "cell_type": "code",
     "collapsed": false,
     "input": [
      "#r2\n",
      "#Best parameters set found on development set:\n",
      "\n",
      "#RandomForestRegressor(bootstrap=True, compute_importances=None,\n",
      " #          criterion='mse', max_depth=None, max_features='auto',\n",
      " #          max_leaf_nodes=None, min_density=None, min_samples_leaf=1,\n",
      " #          min_samples_split=2, n_estimators=500, n_jobs=1,\n",
      " #          oob_score=False, random_state=None, verbose=0)\n",
      "\n",
      "#Grid scores on development set:\n",
      "\n",
      "#0.847 (+/-0.006) for {'n_estimators': 10}\n",
      "#0.863 (+/-0.005) for {'n_estimators': 100}\n",
      "#0.864 (+/-0.005) for {'n_estimators': 500}\n",
      "\n",
      "#This looks good. Now it's ease to pick the estimator that gives us the best result.\n",
      "#Now you can see how Grid Search can be helpful using multiple estimators for other models e.g. SVM.\n",
      "#I would also like to see if the model is high bias or high variance. \n",
      "#Thus I will use learning curve which will graphically display train and cross validation curves. "
     ],
     "language": "python",
     "metadata": {},
     "outputs": []
    },
    {
     "cell_type": "code",
     "collapsed": false,
     "input": [
      "def plot_learning_curve(estimator, title, X, y, ylim=None, cv=None,\n",
      "                        n_jobs=1, train_sizes=np.linspace(.1, 1.0, 5)):\n",
      "    \n",
      "    plt.figure()\n",
      "    plt.title(title)\n",
      "    if ylim is not None:\n",
      "        plt.ylim(*ylim)\n",
      "    plt.xlabel(\"Training examples\")\n",
      "    plt.ylabel(\"Score\")\n",
      "    train_sizes, train_scores, test_scores = learning_curve(\n",
      "        estimator, X, y, cv=cv, n_jobs=n_jobs, train_sizes=train_sizes)\n",
      "    train_scores_mean = np.mean(train_scores, axis=1)\n",
      "    train_scores_std = np.std(train_scores, axis=1)\n",
      "    test_scores_mean = np.mean(test_scores, axis=1)\n",
      "    test_scores_std = np.std(test_scores, axis=1)\n",
      "    plt.grid()\n",
      "\n",
      "    plt.fill_between(train_sizes, train_scores_mean - train_scores_std,\n",
      "                     train_scores_mean + train_scores_std, alpha=0.1,\n",
      "                     color=\"r\")\n",
      "    plt.fill_between(train_sizes, test_scores_mean - test_scores_std,\n",
      "                     test_scores_mean + test_scores_std, alpha=0.1, color=\"g\")\n",
      "    plt.plot(train_sizes, train_scores_mean, 'o-', color=\"r\",\n",
      "             label=\"Training score\")\n",
      "    plt.plot(train_sizes, test_scores_mean, 'o-', color=\"g\",\n",
      "             label=\"Cross-validation score\")\n",
      "\n",
      "    plt.legend(loc=\"best\")\n",
      "    return plt\n",
      "\n",
      "\n",
      "title = \"Learning Curves (Random Forest, n_estimators = 100)\"\n",
      "cv = cross_validation.ShuffleSplit(df_train_data.shape[0], n_iter=10,test_size=0.2, random_state=0)\n",
      "estimator = RandomForestRegressor(n_estimators = 100)\n",
      "plot_learning_curve(estimator, title, X, y, (0.0, 1.01), cv=cv, n_jobs=4)\n",
      "\n",
      "plt.show()"
     ],
     "language": "python",
     "metadata": {},
     "outputs": []
    },
    {
     "cell_type": "code",
     "collapsed": false,
     "input": [
      "'''\n",
      "The gap between lines migth indicate that I am dealing with high variance.\n",
      "This might be fixed with higher training example or smaller set of features. \n",
      "In order to complete the problem you will need to download the test.csv file from Bike Sharing Demand and open it using pandas.\n",
      "Extract all the information from test.datetime column like I did above.\n",
      "Delete all unneeded columns so df_train_data matches df_test. After this you are ready for the last part: \n",
      "fit and predict e.g.clf = svm.SVR() clf.fit(X, y) - this is your train set.\n",
      "You are training your you model here clf.predict(X) - this is you test set. \n",
      "You are predicting the resultThere is more techniques to improve the model e.g. Validation Curve or \n",
      "try other model using Grid Search to find best estimators. \n",
      "This model will give the score around .49769 which is not the best,\n",
      "but this is a good start for the people who have very little or no experience in machine learning.\n",
      "Thank you, I hope you enjoyed it! \n",
      "\n",
      "'''"
     ],
     "language": "python",
     "metadata": {},
     "outputs": []
    },
    {
     "cell_type": "code",
     "collapsed": false,
     "input": [
      "#For optimaze predict each one casula and regested spartil and add thim together\n",
      "#remove atemp\n",
      "#take log10\n",
      "#add separet for workingday\n",
      "#take cosine sine for hour seasonalty \n",
      "#try to imporve gbm\n",
      "#paly with cv incease the tarning sets\n"
     ],
     "language": "python",
     "metadata": {},
     "outputs": []
    },
    {
     "cell_type": "code",
     "collapsed": false,
     "input": [
      "df_test = pd.read_csv('/home/aamnah/Google Drive/Project_BikeSharing/code_and_data/Python_Code/test.csv',parse_dates=[\"datetime\"],header = 0)\n"
     ],
     "language": "python",
     "metadata": {},
     "outputs": []
    },
    {
     "cell_type": "code",
     "collapsed": false,
     "input": [
      "#To convert a Series or list-like object of date-like objects e.g. strings I can use the to_datetime function. Here I can use pd.DatetimeIndex to extract month, day and hour out of datetime column. For the day column I would like to show it as day of week, where Monday = 0 and Sunday = 6\n",
      "df_test['month'] = pd.DatetimeIndex(df_test.datetime).month\n",
      "df_test['day'] = pd.DatetimeIndex(df_test.datetime).dayofweek\n",
      "df_test['hour'] = pd.DatetimeIndex(df_test.datetime).hour\n",
      "df_test['year'] = pd.DatetimeIndex(df_test.datetime).year"
     ],
     "language": "python",
     "metadata": {},
     "outputs": []
    },
    {
     "cell_type": "code",
     "collapsed": false,
     "input": [
      "df_test.shape"
     ],
     "language": "python",
     "metadata": {},
     "outputs": []
    },
    {
     "cell_type": "code",
     "collapsed": false,
     "input": [
      "#Since I got all the information from datetime column, now I will delete it. I will delete casual and registered customer columns as well, to make it more simpler and match test data file.\n",
      "df_test = df_test.drop(['datetime'], axis = 1)"
     ],
     "language": "python",
     "metadata": {},
     "outputs": []
    },
    {
     "cell_type": "code",
     "collapsed": false,
     "input": [
      "df_test.head(1)"
     ],
     "language": "python",
     "metadata": {},
     "outputs": []
    },
    {
     "cell_type": "code",
     "collapsed": false,
     "input": [
      "#Since I got all the information from datetime column, now I will delete it. I will delete casual and registered customer columns as well, to make it more simpler and match test data file.\n",
      "#df_test = df_test.drop(['datetime'], axis = 1)"
     ],
     "language": "python",
     "metadata": {},
     "outputs": []
    },
    {
     "cell_type": "code",
     "collapsed": false,
     "input": [
      "#df_test.head(1)"
     ],
     "language": "python",
     "metadata": {},
     "outputs": []
    },
    {
     "cell_type": "code",
     "collapsed": false,
     "input": [
      "df_test.shape"
     ],
     "language": "python",
     "metadata": {},
     "outputs": []
    },
    {
     "cell_type": "code",
     "collapsed": false,
     "input": [
      "df_train_data.shape"
     ],
     "language": "python",
     "metadata": {},
     "outputs": []
    },
    {
     "cell_type": "code",
     "collapsed": false,
     "input": [
      "#rf = RandomForestRegressor(n_estimators=1000, min_samples_split=6, oob_score=True)\n",
      "#svc = RandomForestRegressor(n_estimators = 100).fit(df_train_data[train], df_train_target[train])\n",
      "#This the best result based on the Grid search outcome\n",
      "rf = RandomForestRegressor(min_samples_split=11, n_estimators=1000)\n",
      "count_rf = rf.fit(df_train_data, df_train_target)\n",
      "count = rf.predict(df_test)\n",
      "\n",
      "count_rf1 = rf.fit(df_train_data1, df_train_target1)\n",
      "count1 = rf.predict(df_test)\n",
      "\n",
      "count_total = [abs(int(round(i+j))) for i,j in zip(count, count1)]\n",
      "#count_total = count+count1"
     ],
     "language": "python",
     "metadata": {},
     "outputs": []
    },
    {
     "cell_type": "code",
     "collapsed": false,
     "input": [
      "gbr = GradientBoostingRegressor(n_estimators = 100, max_depth=6)\n",
      "\n",
      "r = gbr.fit(df_train_data[train], df_train_target[train]) \n",
      "countln = gbr.predict(df_test)\n",
      "\n",
      "\n",
      "r2 = gbr.fit(df_train_data1[train], df_train_target1[train])\n",
      "countln1 = gbr.predict(df_test)\n",
      "\n",
      "count_total_ln = [abs(int(round(i+j))) for i,j in zip(countln, countln1)]\n",
      "\n",
      "#COUNTS = [(i+j)/2. for i,j in zip(count_total, count_total_ln)]"
     ],
     "language": "python",
     "metadata": {},
     "outputs": []
    },
    {
     "cell_type": "code",
     "collapsed": false,
     "input": [
      "df_test = pd.read_csv('/home/aamnah/Google Drive/Project_BikeSharing/code_and_data/Python_Code/test.csv',parse_dates=[\"datetime\"],header = 0)\n",
      "df_submission = pd.DataFrame(count_total_ln, df_test[\"datetime\"] , columns = ['count'])\n",
      "pd.DataFrame.to_csv(df_submission ,'randomforest_predict_casula_gregistered_GBR.csv')\n",
      "#Rf submit 18-6-2015  bad rsult 1.8... "
     ],
     "language": "python",
     "metadata": {},
     "outputs": []
    },
    {
     "cell_type": "code",
     "collapsed": false,
     "input": [
      "##Plotting\n",
      "plt.figure();\n",
      "#plt.plot(df_train.counts)\n",
      "#plt.title(\"Actual model\")\n",
      "plt.xlabel(\"Period 2011-2012\")\n",
      "plt.ylabel(\"Count\")\n",
      "#plt.savefig(\"/home/aamnah/Google Drive/Project_BikeSharing/research-project-templete-amnah/Template/images/actual_1.png\")\n",
      "\n",
      "plt.figure();\n",
      "plt.plot(count_total)\n",
      "#plt.title(\"Random forest prediction\")\n",
      "plt.xlabel(\"Period 2011-2012\")\n",
      "plt.ylabel(\"Count\")\n",
      "#plt.savefig(\"/home/aamnah/Google Drive/Project_BikeSharing/research-project-templete-amnah/Template/images/randomforest_predict_1.png\")\n",
      "plt.show()   "
     ],
     "language": "python",
     "metadata": {},
     "outputs": []
    },
    {
     "cell_type": "code",
     "collapsed": false,
     "input": [],
     "language": "python",
     "metadata": {},
     "outputs": []
    }
   ],
   "metadata": {}
  }
 ]
}