{
 "metadata": {
  "name": "",
  "signature": "sha256:0573c9d8520fe5b396dd7af37c286cd12c218681ebbac5866a475d49ec8655c6"
 },
 "nbformat": 3,
 "nbformat_minor": 0,
 "worksheets": [
  {
   "cells": [
    {
     "cell_type": "markdown",
     "metadata": {},
     "source": [
      "#Iris example"
     ]
    },
    {
     "cell_type": "code",
     "collapsed": false,
     "input": [
      "from sklearn.datasets import load_iris\n",
      "from sklearn import tree\n",
      "iris = load_iris()\n",
      "\n",
      "\n",
      "\n",
      "\n",
      "features_list = iris.columns.values\n",
      "importances = svc1.feature_importances_\n",
      "important_idx = np.where(importances)[0] \n",
      "important_features = features_list[important_idx]\n",
      "\n",
      "print importances \n",
      "print important_features\n",
      "\n",
      "\n",
      "\n",
      "\n",
      "\n",
      "clf = tree.DecisionTreeClassifier()\n",
      "clf = clf.fit(iris.data, iris.target)"
     ],
     "language": "python",
     "metadata": {},
     "outputs": [],
     "prompt_number": 5
    },
    {
     "cell_type": "code",
     "collapsed": false,
     "input": [
      "from sklearn.externals.six import StringIO\n",
      "with open(\"iris.dot\", 'w') as f:\n",
      "    f = tree.export_graphviz(clf, out_file=f)"
     ],
     "language": "python",
     "metadata": {},
     "outputs": [],
     "prompt_number": 6
    },
    {
     "cell_type": "code",
     "collapsed": false,
     "input": [
      "import os\n",
      "os.unlink('iris.dot')"
     ],
     "language": "python",
     "metadata": {},
     "outputs": [],
     "prompt_number": 7
    },
    {
     "cell_type": "code",
     "collapsed": false,
     "input": [
      "from sklearn.externals.six import StringIO  \n",
      "import pydot \n",
      "dot_data = StringIO() \n",
      "tree.export_graphviz(clf, out_file=dot_data) \n",
      "graph = pydot.graph_from_dot_data(dot_data.getvalue()) \n",
      "graph.write_pdf(\"iris.pdf\") "
     ],
     "language": "python",
     "metadata": {},
     "outputs": [
      {
       "metadata": {},
       "output_type": "pyout",
       "prompt_number": 8,
       "text": [
        "True"
       ]
      }
     ],
     "prompt_number": 8
    },
    {
     "cell_type": "code",
     "collapsed": false,
     "input": [
      "import numpy as np\n",
      "import matplotlib.pyplot as plt\n",
      "import pandas as pd\n",
      "import math\n",
      " \n",
      "from sklearn import ensemble\n",
      "from sklearn import cross_validation\n",
      "from sklearn.cross_validation import train_test_split\n",
      "from sklearn.metrics import mean_absolute_error\n",
      "from sklearn.grid_search import GridSearchCV\n",
      "from datetime import datetime\n",
      "from sklearn.ensemble import RandomForestRegressor,GradientBoostingRegressor,BaggingRegressor,RandomForestClassifier \n",
      " \n"
     ],
     "language": "python",
     "metadata": {},
     "outputs": [],
     "prompt_number": 67
    },
    {
     "cell_type": "markdown",
     "metadata": {},
     "source": [
      "#Plot the decision tree of depth 3 for bike sharing data"
     ]
    },
    {
     "cell_type": "code",
     "collapsed": false,
     "input": [
      "#First let's open Bicycle train.csv and take a look at it. \n",
      "df_train = pd.read_csv('/home/aamnah/Google Drive/Project_BikeSharing/code_and_data/Python_Code/train.csv',parse_dates=[\"datetime\"],header = 0)\n",
      "\n",
      "#To convert a Series or list-like object of date-like objects e.g. strings I can use the to_datetime function. Here I can use pd.DatetimeIndex to extract month, day and hour out of datetime column. For the day column I would like to show it as day of week, where Monday = 0 and Sunday = 6\n",
      "df_train['month'] = pd.DatetimeIndex(df_train.datetime).month\n",
      "df_train['day'] = pd.DatetimeIndex(df_train.datetime).dayofweek\n",
      "df_train['hour'] = pd.DatetimeIndex(df_train.datetime).hour\n",
      "df_train['year'] = pd.DatetimeIndex(df_train.datetime).year\n",
      "\n",
      "#Since I got all the information from datetime column, now I will delete it. I will delete casual and registered customer columns as well, to make it more simpler and match test data file.\n",
      "df_train = df_train.drop(['datetime'], axis = 1)"
     ],
     "language": "python",
     "metadata": {},
     "outputs": [],
     "prompt_number": 68
    },
    {
     "cell_type": "code",
     "collapsed": false,
     "input": [
      "\n",
      " \n",
      "df_test = pd.read_csv('/home/aamnah/Google Drive/Project_BikeSharing/code_and_data/Python_Code/test.csv',parse_dates=[\"datetime\"],header = 0)\n",
      "#To convert a Series or list-like object of date-like objects e.g. strings I can use the to_datetime function. Here I can use pd.DatetimeIndex to extract month, day and hour out of datetime column. For the day column I would like to show it as day of week, where Monday = 0 and Sunday = 6\n",
      "df_test['month'] = pd.DatetimeIndex(df_test.datetime).month\n",
      "df_test['day'] = pd.DatetimeIndex(df_test.datetime).dayofweek\n",
      "df_test['hour'] = pd.DatetimeIndex(df_test.datetime).hour\n",
      "df_test['year'] = pd.DatetimeIndex(df_test.datetime).year\n",
      "#Since I got all the information from datetime column, now I will delete it. I will delete casual and registered customer columns as well, to make it more simpler and match test data file.\n",
      "df_test = df_test.drop(['datetime'], axis = 1)\n",
      " \n"
     ],
     "language": "python",
     "metadata": {},
     "outputs": [],
     "prompt_number": 69
    },
    {
     "cell_type": "code",
     "collapsed": false,
     "input": [
      "#I decided to split our features into two: 1.df_train_target - it is our target. This will contain 'count' column from df_train. \n",
      "#2.df_train_data - this will be our features. All of thte features (of course except 'count') are in here. I also want to use pd.DataFrame.values, which will give us NumPy representation which Scikit-learn can work with. \n",
      "df_train_target = df_train['counts'].values\n",
      "df_train_data = df_train.drop(['counts','casual','registered'],axis = 1).values\n",
      "print 'df_train_data shape is ', df_train_data.shape\n",
      "print 'df_train_target shape is ', df_train_target.shape\n"
     ],
     "language": "python",
     "metadata": {},
     "outputs": [
      {
       "output_type": "stream",
       "stream": "stdout",
       "text": [
        "df_train_data shape is  (10886, 12)\n",
        "df_train_target shape is  (10886,)\n"
       ]
      }
     ],
     "prompt_number": 70
    },
    {
     "cell_type": "code",
     "collapsed": false,
     "input": [
      "#svc = tree.DecisionTreeRegressor(max_depth=3)\n",
      "#svc = tree.RandomForestRegressor(n_estimators=500) \n",
      "#svc = svc.fit(df_train_data, df_train_target)"
     ],
     "language": "python",
     "metadata": {},
     "outputs": [],
     "prompt_number": 71
    },
    {
     "cell_type": "code",
     "collapsed": false,
     "input": [
      "cv = cross_validation.ShuffleSplit(len(df_train_data), n_iter=3, test_size=0.2,random_state=0)\n",
      "#cv = cross_validation.KFold( len(df_train_data), n_folds=10, shuffle=False, random_state=None)   #very bad result\n",
      "print \"DecisionTreeRegressor\"    \n",
      "for train, test in cv:    \n",
      "    svc = tree.DecisionTreeRegressor(max_depth=3)\n",
      "    svc = svc.fit(df_train_data[train], df_train_target[train])\n",
      "    #count = svc.predict(df_test)"
     ],
     "language": "python",
     "metadata": {},
     "outputs": [
      {
       "output_type": "stream",
       "stream": "stdout",
       "text": [
        "DecisionTreeRegressor\n"
       ]
      }
     ],
     "prompt_number": 79
    },
    {
     "cell_type": "code",
     "collapsed": false,
     "input": [
      "from sklearn.externals.six import StringIO\n",
      "with open(\"iris.dot\", 'w') as f:\n",
      "    f = tree.export_graphviz(svc, out_file=f)"
     ],
     "language": "python",
     "metadata": {},
     "outputs": [],
     "prompt_number": 80
    },
    {
     "cell_type": "code",
     "collapsed": false,
     "input": [
      "import os\n",
      "os.unlink('iris.dot')"
     ],
     "language": "python",
     "metadata": {},
     "outputs": [],
     "prompt_number": 81
    },
    {
     "cell_type": "code",
     "collapsed": false,
     "input": [
      "from sklearn.externals.six import StringIO  \n",
      "import pydot \n",
      "dot_data = StringIO() \n",
      "tree.export_graphviz(svc, out_file=dot_data) \n",
      "graph = pydot.graph_from_dot_data(dot_data.getvalue()) \n",
      "#graph.write_pdf(\"/home/aamnah/Google Drive/Project_BikeSharing/research-project-templete-amnah/Template/images/Tree.pdf\") \n",
      "#plt.savefig(\"/home/aamnah/Google Drive/Project_BikeSharing/research-project-templete-amnah/Template/images/Registered_hour-rental-registered.png\")\n"
     ],
     "language": "python",
     "metadata": {},
     "outputs": [
      {
       "metadata": {},
       "output_type": "pyout",
       "prompt_number": 82,
       "text": [
        "True"
       ]
      }
     ],
     "prompt_number": 82
    },
    {
     "cell_type": "code",
     "collapsed": false,
     "input": [],
     "language": "python",
     "metadata": {},
     "outputs": []
    },
    {
     "cell_type": "code",
     "collapsed": false,
     "input": [
      "print(__doc__)\n",
      "\n",
      "# Import the necessary modules and libraries\n",
      "import numpy as np\n",
      "from sklearn.tree import DecisionTreeRegressor\n",
      "import matplotlib.pyplot as plt\n",
      "\n",
      "# Create a random dataset\n",
      "rng = np.random.RandomState(1)\n",
      "X = np.sort(5 * rng.rand(80, 1), axis=0)\n",
      "y = np.sin(X).ravel()\n",
      "y[::5] += 3 * (0.5 - rng.rand(16))\n",
      "\n",
      "# Fit regression model\n",
      "clf_1 = DecisionTreeRegressor(max_depth=2)\n",
      "clf_2 = DecisionTreeRegressor(max_depth=5)\n",
      "clf_1.fit(X, y)\n",
      "clf_2.fit(X, y)\n",
      "\n",
      "# Predict\n",
      "X_test = np.arange(0.0, 5.0, 0.01)[:, np.newaxis]\n",
      "y_1 = clf_1.predict(X_test)\n",
      "y_2 = clf_2.predict(X_test)\n",
      "\n",
      "# Plot the results\n",
      "plt.figure()\n",
      "plt.scatter(X, y, c=\"k\", label=\"data\")\n",
      "plt.plot(X_test, y_1, c=\"g\", label=\"max_depth=2\", linewidth=2)\n",
      "plt.plot(X_test, y_2, c=\"r\", label=\"max_depth=5\", linewidth=2)\n",
      "plt.xlabel(\"data\")\n",
      "plt.ylabel(\"target\")\n",
      "plt.title(\"Decision Tree Regression\")\n",
      "plt.legend()\n",
      "plt.show()"
     ],
     "language": "python",
     "metadata": {},
     "outputs": [
      {
       "output_type": "stream",
       "stream": "stdout",
       "text": [
        "Automatically created module for IPython interactive environment\n"
       ]
      }
     ],
     "prompt_number": 3
    },
    {
     "cell_type": "markdown",
     "metadata": {},
     "source": [
      "#still THere is a problem of data size with this Tree , #Decision Tree Graph ????!!"
     ]
    },
    {
     "cell_type": "code",
     "collapsed": false,
     "input": [
      "print(__doc__)\n",
      "\n",
      "# Import the necessary modules and libraries\n",
      "import numpy as np\n",
      "from sklearn.tree import DecisionTreeRegressor\n",
      "import matplotlib.pyplot as plt\n",
      "\n",
      "# Create a random dataset\n",
      "#rng = np.random.RandomState(1)\n",
      "X = df_train_data\n",
      "y = df_train_target\n",
      "#y[::5] += 3 * (0.5 - rng.rand(16))\n",
      "\n",
      "# Fit regression model\n",
      "clf_1 = DecisionTreeRegressor(max_depth=2)\n",
      "clf_2 = DecisionTreeRegressor(max_depth=5)\n",
      "clf_1.fit(X, y)\n",
      "clf_2.fit(X, y)\n",
      "\n",
      "# Predict\n",
      "X_test = np.arange(0.0, 5.0, 0.01)[:, np.newaxis]\n",
      "y_1 = clf_1.predict(df_test)\n",
      "y_2 = clf_2.predict(df_test)\n",
      "\n",
      "# Plot the results\n",
      "plt.figure()\n",
      "plt.scatter(X['counts'], y, c=\"k\", label=\"data\")\n",
      "plt.plot(X_test, y_1, c=\"g\", label=\"max_depth=2\", linewidth=2)\n",
      "plt.plot(X_test, y_2, c=\"r\", label=\"max_depth=5\", linewidth=2)\n",
      "plt.xlabel(\"data\")\n",
      "plt.ylabel(\"target\")\n",
      "plt.title(\"Decision Tree Regression\")\n",
      "plt.legend()\n",
      "plt.show()"
     ],
     "language": "python",
     "metadata": {},
     "outputs": [
      {
       "output_type": "stream",
       "stream": "stdout",
       "text": [
        "Automatically created module for IPython interactive environment\n"
       ]
      },
      {
       "ename": "NameError",
       "evalue": "name 'df_train_data' is not defined",
       "output_type": "pyerr",
       "traceback": [
        "\u001b[0;31m---------------------------------------------------------------------------\u001b[0m\n\u001b[0;31mNameError\u001b[0m                                 Traceback (most recent call last)",
        "\u001b[0;32m<ipython-input-4-b70c0d3864ff>\u001b[0m in \u001b[0;36m<module>\u001b[0;34m()\u001b[0m\n\u001b[1;32m      8\u001b[0m \u001b[0;31m# Create a random dataset\u001b[0m\u001b[0;34m\u001b[0m\u001b[0;34m\u001b[0m\u001b[0m\n\u001b[1;32m      9\u001b[0m \u001b[0;31m#rng = np.random.RandomState(1)\u001b[0m\u001b[0;34m\u001b[0m\u001b[0;34m\u001b[0m\u001b[0m\n\u001b[0;32m---> 10\u001b[0;31m \u001b[0mX\u001b[0m \u001b[0;34m=\u001b[0m \u001b[0mdf_train_data\u001b[0m\u001b[0;34m\u001b[0m\u001b[0m\n\u001b[0m\u001b[1;32m     11\u001b[0m \u001b[0my\u001b[0m \u001b[0;34m=\u001b[0m \u001b[0mdf_train_target\u001b[0m\u001b[0;34m\u001b[0m\u001b[0m\n\u001b[1;32m     12\u001b[0m \u001b[0;31m#y[::5] += 3 * (0.5 - rng.rand(16))\u001b[0m\u001b[0;34m\u001b[0m\u001b[0;34m\u001b[0m\u001b[0m\n",
        "\u001b[0;31mNameError\u001b[0m: name 'df_train_data' is not defined"
       ]
      }
     ],
     "prompt_number": 4
    },
    {
     "cell_type": "code",
     "collapsed": false,
     "input": [],
     "language": "python",
     "metadata": {},
     "outputs": []
    }
   ],
   "metadata": {}
  }
 ]
}